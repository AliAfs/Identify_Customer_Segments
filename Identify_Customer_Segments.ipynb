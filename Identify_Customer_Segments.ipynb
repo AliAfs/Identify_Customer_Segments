{
 "cells": [
  {
   "cell_type": "markdown",
   "metadata": {},
   "source": [
    "# Project: Identify Customer Segments\n",
    "\n",
    "In this project, you will apply unsupervised learning techniques to identify segments of the population that form the core customer base for a mail-order sales company in Germany. These segments can then be used to direct marketing campaigns towards audiences that will have the highest expected rate of returns. The data that you will use has been provided by our partners at Bertelsmann Arvato Analytics, and represents a real-life data science task.\n",
    "\n",
    "This notebook will help you complete this task by providing a framework within which you will perform your analysis steps. In each step of the project, you will see some text describing the subtask that you will perform, followed by one or more code cells for you to complete your work. **Feel free to add additional code and markdown cells as you go along so that you can explore everything in precise chunks.** The code cells provided in the base template will outline only the major tasks, and will usually not be enough to cover all of the minor tasks that comprise it.\n",
    "\n",
    "It should be noted that while there will be precise guidelines on how you should handle certain tasks in the project, there will also be places where an exact specification is not provided. **There will be times in the project where you will need to make and justify your own decisions on how to treat the data.** These are places where there may not be only one way to handle the data. In real-life tasks, there may be many valid ways to approach an analysis task. One of the most important things you can do is clearly document your approach so that other scientists can understand the decisions you've made.\n",
    "\n",
    "At the end of most sections, there will be a Markdown cell labeled **Discussion**. In these cells, you will report your findings for the completed section, as well as document the decisions that you made in your approach to each subtask. **Your project will be evaluated not just on the code used to complete the tasks outlined, but also your communication about your observations and conclusions at each stage.**"
   ]
  },
  {
   "cell_type": "code",
   "execution_count": 1,
   "metadata": {},
   "outputs": [
    {
     "data": {
      "text/plain": [
       "'\\nImport note: The classroom currently uses sklearn version 0.19.\\nIf you need to use an imputer, it is available in sklearn.preprocessing.Imputer,\\ninstead of sklearn.impute as in newer versions of sklearn.\\n'"
      ]
     },
     "execution_count": 1,
     "metadata": {},
     "output_type": "execute_result"
    }
   ],
   "source": [
    "# import libraries here; add more as necessary\n",
    "import numpy as np\n",
    "import pandas as pd\n",
    "import matplotlib.pyplot as plt\n",
    "import seaborn as sns\n",
    "\n",
    "# magic word for producing visualizations in notebook\n",
    "%matplotlib inline\n",
    "\n",
    "'''\n",
    "Import note: The classroom currently uses sklearn version 0.19.\n",
    "If you need to use an imputer, it is available in sklearn.preprocessing.Imputer,\n",
    "instead of sklearn.impute as in newer versions of sklearn.\n",
    "'''"
   ]
  },
  {
   "cell_type": "markdown",
   "metadata": {},
   "source": [
    "### Step 0: Load the Data\n",
    "\n",
    "There are four files associated with this project (not including this one):\n",
    "\n",
    "- `Udacity_AZDIAS_Subset.csv`: Demographics data for the general population of Germany; 891211 persons (rows) x 85 features (columns).\n",
    "- `Udacity_CUSTOMERS_Subset.csv`: Demographics data for customers of a mail-order company; 191652 persons (rows) x 85 features (columns).\n",
    "- `Data_Dictionary.md`: Detailed information file about the features in the provided datasets.\n",
    "- `AZDIAS_Feature_Summary.csv`: Summary of feature attributes for demographics data; 85 features (rows) x 4 columns\n",
    "\n",
    "Each row of the demographics files represents a single person, but also includes information outside of individuals, including information about their household, building, and neighborhood. You will use this information to cluster the general population into groups with similar demographic properties. Then, you will see how the people in the customers dataset fit into those created clusters. The hope here is that certain clusters are over-represented in the customers data, as compared to the general population; those over-represented clusters will be assumed to be part of the core userbase. This information can then be used for further applications, such as targeting for a marketing campaign.\n",
    "\n",
    "To start off with, load in the demographics data for the general population into a pandas DataFrame, and do the same for the feature attributes summary. Note for all of the `.csv` data files in this project: they're semicolon (`;`) delimited, so you'll need an additional argument in your [`read_csv()`](https://pandas.pydata.org/pandas-docs/stable/generated/pandas.read_csv.html) call to read in the data properly. Also, considering the size of the main dataset, it may take some time for it to load completely.\n",
    "\n",
    "Once the dataset is loaded, it's recommended that you take a little bit of time just browsing the general structure of the dataset and feature summary file. You'll be getting deep into the innards of the cleaning in the first major step of the project, so gaining some general familiarity can help you get your bearings."
   ]
  },
  {
   "cell_type": "code",
   "execution_count": 2,
   "metadata": {},
   "outputs": [],
   "source": [
    "# Load in the general demographics data.\n",
    "azdias = pd.read_csv('Udacity_AZDIAS_Subset.csv', sep=';')\n",
    "\n",
    "# Load in the feature summary file.\n",
    "feat_info = pd.read_csv('AZDIAS_Feature_Summary.csv', sep=';')"
   ]
  },
  {
   "cell_type": "code",
   "execution_count": 3,
   "metadata": {},
   "outputs": [
    {
     "data": {
      "text/html": [
       "<div>\n",
       "<style scoped>\n",
       "    .dataframe tbody tr th:only-of-type {\n",
       "        vertical-align: middle;\n",
       "    }\n",
       "\n",
       "    .dataframe tbody tr th {\n",
       "        vertical-align: top;\n",
       "    }\n",
       "\n",
       "    .dataframe thead th {\n",
       "        text-align: right;\n",
       "    }\n",
       "</style>\n",
       "<table border=\"1\" class=\"dataframe\">\n",
       "  <thead>\n",
       "    <tr style=\"text-align: right;\">\n",
       "      <th></th>\n",
       "      <th>AGER_TYP</th>\n",
       "      <th>ALTERSKATEGORIE_GROB</th>\n",
       "      <th>ANREDE_KZ</th>\n",
       "      <th>CJT_GESAMTTYP</th>\n",
       "      <th>FINANZ_MINIMALIST</th>\n",
       "      <th>FINANZ_SPARER</th>\n",
       "      <th>FINANZ_VORSORGER</th>\n",
       "      <th>FINANZ_ANLEGER</th>\n",
       "      <th>FINANZ_UNAUFFAELLIGER</th>\n",
       "      <th>FINANZ_HAUSBAUER</th>\n",
       "      <th>...</th>\n",
       "      <th>PLZ8_ANTG1</th>\n",
       "      <th>PLZ8_ANTG2</th>\n",
       "      <th>PLZ8_ANTG3</th>\n",
       "      <th>PLZ8_ANTG4</th>\n",
       "      <th>PLZ8_BAUMAX</th>\n",
       "      <th>PLZ8_HHZ</th>\n",
       "      <th>PLZ8_GBZ</th>\n",
       "      <th>ARBEIT</th>\n",
       "      <th>ORTSGR_KLS9</th>\n",
       "      <th>RELAT_AB</th>\n",
       "    </tr>\n",
       "  </thead>\n",
       "  <tbody>\n",
       "    <tr>\n",
       "      <th>0</th>\n",
       "      <td>-1</td>\n",
       "      <td>2</td>\n",
       "      <td>1</td>\n",
       "      <td>2.0</td>\n",
       "      <td>3</td>\n",
       "      <td>4</td>\n",
       "      <td>3</td>\n",
       "      <td>5</td>\n",
       "      <td>5</td>\n",
       "      <td>3</td>\n",
       "      <td>...</td>\n",
       "      <td>NaN</td>\n",
       "      <td>NaN</td>\n",
       "      <td>NaN</td>\n",
       "      <td>NaN</td>\n",
       "      <td>NaN</td>\n",
       "      <td>NaN</td>\n",
       "      <td>NaN</td>\n",
       "      <td>NaN</td>\n",
       "      <td>NaN</td>\n",
       "      <td>NaN</td>\n",
       "    </tr>\n",
       "    <tr>\n",
       "      <th>1</th>\n",
       "      <td>-1</td>\n",
       "      <td>1</td>\n",
       "      <td>2</td>\n",
       "      <td>5.0</td>\n",
       "      <td>1</td>\n",
       "      <td>5</td>\n",
       "      <td>2</td>\n",
       "      <td>5</td>\n",
       "      <td>4</td>\n",
       "      <td>5</td>\n",
       "      <td>...</td>\n",
       "      <td>2.0</td>\n",
       "      <td>3.0</td>\n",
       "      <td>2.0</td>\n",
       "      <td>1.0</td>\n",
       "      <td>1.0</td>\n",
       "      <td>5.0</td>\n",
       "      <td>4.0</td>\n",
       "      <td>3.0</td>\n",
       "      <td>5.0</td>\n",
       "      <td>4.0</td>\n",
       "    </tr>\n",
       "    <tr>\n",
       "      <th>2</th>\n",
       "      <td>-1</td>\n",
       "      <td>3</td>\n",
       "      <td>2</td>\n",
       "      <td>3.0</td>\n",
       "      <td>1</td>\n",
       "      <td>4</td>\n",
       "      <td>1</td>\n",
       "      <td>2</td>\n",
       "      <td>3</td>\n",
       "      <td>5</td>\n",
       "      <td>...</td>\n",
       "      <td>3.0</td>\n",
       "      <td>3.0</td>\n",
       "      <td>1.0</td>\n",
       "      <td>0.0</td>\n",
       "      <td>1.0</td>\n",
       "      <td>4.0</td>\n",
       "      <td>4.0</td>\n",
       "      <td>3.0</td>\n",
       "      <td>5.0</td>\n",
       "      <td>2.0</td>\n",
       "    </tr>\n",
       "    <tr>\n",
       "      <th>3</th>\n",
       "      <td>2</td>\n",
       "      <td>4</td>\n",
       "      <td>2</td>\n",
       "      <td>2.0</td>\n",
       "      <td>4</td>\n",
       "      <td>2</td>\n",
       "      <td>5</td>\n",
       "      <td>2</td>\n",
       "      <td>1</td>\n",
       "      <td>2</td>\n",
       "      <td>...</td>\n",
       "      <td>2.0</td>\n",
       "      <td>2.0</td>\n",
       "      <td>2.0</td>\n",
       "      <td>0.0</td>\n",
       "      <td>1.0</td>\n",
       "      <td>3.0</td>\n",
       "      <td>4.0</td>\n",
       "      <td>2.0</td>\n",
       "      <td>3.0</td>\n",
       "      <td>3.0</td>\n",
       "    </tr>\n",
       "    <tr>\n",
       "      <th>4</th>\n",
       "      <td>-1</td>\n",
       "      <td>3</td>\n",
       "      <td>1</td>\n",
       "      <td>5.0</td>\n",
       "      <td>4</td>\n",
       "      <td>3</td>\n",
       "      <td>4</td>\n",
       "      <td>1</td>\n",
       "      <td>3</td>\n",
       "      <td>2</td>\n",
       "      <td>...</td>\n",
       "      <td>2.0</td>\n",
       "      <td>4.0</td>\n",
       "      <td>2.0</td>\n",
       "      <td>1.0</td>\n",
       "      <td>2.0</td>\n",
       "      <td>3.0</td>\n",
       "      <td>3.0</td>\n",
       "      <td>4.0</td>\n",
       "      <td>6.0</td>\n",
       "      <td>5.0</td>\n",
       "    </tr>\n",
       "  </tbody>\n",
       "</table>\n",
       "<p>5 rows × 85 columns</p>\n",
       "</div>"
      ],
      "text/plain": [
       "   AGER_TYP  ALTERSKATEGORIE_GROB  ANREDE_KZ  CJT_GESAMTTYP  \\\n",
       "0        -1                     2          1            2.0   \n",
       "1        -1                     1          2            5.0   \n",
       "2        -1                     3          2            3.0   \n",
       "3         2                     4          2            2.0   \n",
       "4        -1                     3          1            5.0   \n",
       "\n",
       "   FINANZ_MINIMALIST  FINANZ_SPARER  FINANZ_VORSORGER  FINANZ_ANLEGER  \\\n",
       "0                  3              4                 3               5   \n",
       "1                  1              5                 2               5   \n",
       "2                  1              4                 1               2   \n",
       "3                  4              2                 5               2   \n",
       "4                  4              3                 4               1   \n",
       "\n",
       "   FINANZ_UNAUFFAELLIGER  FINANZ_HAUSBAUER    ...     PLZ8_ANTG1  PLZ8_ANTG2  \\\n",
       "0                      5                 3    ...            NaN         NaN   \n",
       "1                      4                 5    ...            2.0         3.0   \n",
       "2                      3                 5    ...            3.0         3.0   \n",
       "3                      1                 2    ...            2.0         2.0   \n",
       "4                      3                 2    ...            2.0         4.0   \n",
       "\n",
       "   PLZ8_ANTG3  PLZ8_ANTG4  PLZ8_BAUMAX  PLZ8_HHZ  PLZ8_GBZ  ARBEIT  \\\n",
       "0         NaN         NaN          NaN       NaN       NaN     NaN   \n",
       "1         2.0         1.0          1.0       5.0       4.0     3.0   \n",
       "2         1.0         0.0          1.0       4.0       4.0     3.0   \n",
       "3         2.0         0.0          1.0       3.0       4.0     2.0   \n",
       "4         2.0         1.0          2.0       3.0       3.0     4.0   \n",
       "\n",
       "   ORTSGR_KLS9  RELAT_AB  \n",
       "0          NaN       NaN  \n",
       "1          5.0       4.0  \n",
       "2          5.0       2.0  \n",
       "3          3.0       3.0  \n",
       "4          6.0       5.0  \n",
       "\n",
       "[5 rows x 85 columns]"
      ]
     },
     "execution_count": 3,
     "metadata": {},
     "output_type": "execute_result"
    }
   ],
   "source": [
    "# Check the structure of the data after it's loaded (e.g. print the number of\n",
    "# rows and columns, print the first few rows).\n",
    "azdias.head()"
   ]
  },
  {
   "cell_type": "code",
   "execution_count": 4,
   "metadata": {},
   "outputs": [
    {
     "data": {
      "text/plain": [
       "(891221, 85)"
      ]
     },
     "execution_count": 4,
     "metadata": {},
     "output_type": "execute_result"
    }
   ],
   "source": [
    "azdias.shape"
   ]
  },
  {
   "cell_type": "code",
   "execution_count": 5,
   "metadata": {
    "scrolled": true
   },
   "outputs": [
    {
     "name": "stdout",
     "output_type": "stream",
     "text": [
      "<class 'pandas.core.frame.DataFrame'>\n",
      "RangeIndex: 891221 entries, 0 to 891220\n",
      "Data columns (total 85 columns):\n",
      "AGER_TYP                 891221 non-null int64\n",
      "ALTERSKATEGORIE_GROB     891221 non-null int64\n",
      "ANREDE_KZ                891221 non-null int64\n",
      "CJT_GESAMTTYP            886367 non-null float64\n",
      "FINANZ_MINIMALIST        891221 non-null int64\n",
      "FINANZ_SPARER            891221 non-null int64\n",
      "FINANZ_VORSORGER         891221 non-null int64\n",
      "FINANZ_ANLEGER           891221 non-null int64\n",
      "FINANZ_UNAUFFAELLIGER    891221 non-null int64\n",
      "FINANZ_HAUSBAUER         891221 non-null int64\n",
      "FINANZTYP                891221 non-null int64\n",
      "GEBURTSJAHR              891221 non-null int64\n",
      "GFK_URLAUBERTYP          886367 non-null float64\n",
      "GREEN_AVANTGARDE         891221 non-null int64\n",
      "HEALTH_TYP               891221 non-null int64\n",
      "LP_LEBENSPHASE_FEIN      886367 non-null float64\n",
      "LP_LEBENSPHASE_GROB      886367 non-null float64\n",
      "LP_FAMILIE_FEIN          886367 non-null float64\n",
      "LP_FAMILIE_GROB          886367 non-null float64\n",
      "LP_STATUS_FEIN           886367 non-null float64\n",
      "LP_STATUS_GROB           886367 non-null float64\n",
      "NATIONALITAET_KZ         891221 non-null int64\n",
      "PRAEGENDE_JUGENDJAHRE    891221 non-null int64\n",
      "RETOURTYP_BK_S           886367 non-null float64\n",
      "SEMIO_SOZ                891221 non-null int64\n",
      "SEMIO_FAM                891221 non-null int64\n",
      "SEMIO_REL                891221 non-null int64\n",
      "SEMIO_MAT                891221 non-null int64\n",
      "SEMIO_VERT               891221 non-null int64\n",
      "SEMIO_LUST               891221 non-null int64\n",
      "SEMIO_ERL                891221 non-null int64\n",
      "SEMIO_KULT               891221 non-null int64\n",
      "SEMIO_RAT                891221 non-null int64\n",
      "SEMIO_KRIT               891221 non-null int64\n",
      "SEMIO_DOM                891221 non-null int64\n",
      "SEMIO_KAEM               891221 non-null int64\n",
      "SEMIO_PFLICHT            891221 non-null int64\n",
      "SEMIO_TRADV              891221 non-null int64\n",
      "SHOPPER_TYP              891221 non-null int64\n",
      "SOHO_KZ                  817722 non-null float64\n",
      "TITEL_KZ                 817722 non-null float64\n",
      "VERS_TYP                 891221 non-null int64\n",
      "ZABEOTYP                 891221 non-null int64\n",
      "ALTER_HH                 817722 non-null float64\n",
      "ANZ_PERSONEN             817722 non-null float64\n",
      "ANZ_TITEL                817722 non-null float64\n",
      "HH_EINKOMMEN_SCORE       872873 non-null float64\n",
      "KK_KUNDENTYP             306609 non-null float64\n",
      "W_KEIT_KIND_HH           783619 non-null float64\n",
      "WOHNDAUER_2008           817722 non-null float64\n",
      "ANZ_HAUSHALTE_AKTIV      798073 non-null float64\n",
      "ANZ_HH_TITEL             794213 non-null float64\n",
      "GEBAEUDETYP              798073 non-null float64\n",
      "KONSUMNAEHE              817252 non-null float64\n",
      "MIN_GEBAEUDEJAHR         798073 non-null float64\n",
      "OST_WEST_KZ              798073 non-null object\n",
      "WOHNLAGE                 798073 non-null float64\n",
      "CAMEO_DEUG_2015          792242 non-null object\n",
      "CAMEO_DEU_2015           792242 non-null object\n",
      "CAMEO_INTL_2015          792242 non-null object\n",
      "KBA05_ANTG1              757897 non-null float64\n",
      "KBA05_ANTG2              757897 non-null float64\n",
      "KBA05_ANTG3              757897 non-null float64\n",
      "KBA05_ANTG4              757897 non-null float64\n",
      "KBA05_BAUMAX             757897 non-null float64\n",
      "KBA05_GBZ                757897 non-null float64\n",
      "BALLRAUM                 797481 non-null float64\n",
      "EWDICHTE                 797481 non-null float64\n",
      "INNENSTADT               797481 non-null float64\n",
      "GEBAEUDETYP_RASTER       798066 non-null float64\n",
      "KKK                      770025 non-null float64\n",
      "MOBI_REGIO               757897 non-null float64\n",
      "ONLINE_AFFINITAET        886367 non-null float64\n",
      "REGIOTYP                 770025 non-null float64\n",
      "KBA13_ANZAHL_PKW         785421 non-null float64\n",
      "PLZ8_ANTG1               774706 non-null float64\n",
      "PLZ8_ANTG2               774706 non-null float64\n",
      "PLZ8_ANTG3               774706 non-null float64\n",
      "PLZ8_ANTG4               774706 non-null float64\n",
      "PLZ8_BAUMAX              774706 non-null float64\n",
      "PLZ8_HHZ                 774706 non-null float64\n",
      "PLZ8_GBZ                 774706 non-null float64\n",
      "ARBEIT                   794005 non-null float64\n",
      "ORTSGR_KLS9              794005 non-null float64\n",
      "RELAT_AB                 794005 non-null float64\n",
      "dtypes: float64(49), int64(32), object(4)\n",
      "memory usage: 578.0+ MB\n"
     ]
    }
   ],
   "source": [
    "azdias.info()"
   ]
  },
  {
   "cell_type": "code",
   "execution_count": 6,
   "metadata": {},
   "outputs": [
    {
     "data": {
      "text/plain": [
       "float64    49\n",
       "int64      32\n",
       "object      4\n",
       "dtype: int64"
      ]
     },
     "execution_count": 6,
     "metadata": {},
     "output_type": "execute_result"
    }
   ],
   "source": [
    "azdias.dtypes.value_counts()"
   ]
  },
  {
   "cell_type": "code",
   "execution_count": 7,
   "metadata": {},
   "outputs": [
    {
     "data": {
      "text/html": [
       "<div>\n",
       "<style scoped>\n",
       "    .dataframe tbody tr th:only-of-type {\n",
       "        vertical-align: middle;\n",
       "    }\n",
       "\n",
       "    .dataframe tbody tr th {\n",
       "        vertical-align: top;\n",
       "    }\n",
       "\n",
       "    .dataframe thead th {\n",
       "        text-align: right;\n",
       "    }\n",
       "</style>\n",
       "<table border=\"1\" class=\"dataframe\">\n",
       "  <thead>\n",
       "    <tr style=\"text-align: right;\">\n",
       "      <th></th>\n",
       "      <th>AGER_TYP</th>\n",
       "      <th>ALTERSKATEGORIE_GROB</th>\n",
       "      <th>ANREDE_KZ</th>\n",
       "      <th>CJT_GESAMTTYP</th>\n",
       "      <th>FINANZ_MINIMALIST</th>\n",
       "      <th>FINANZ_SPARER</th>\n",
       "      <th>FINANZ_VORSORGER</th>\n",
       "      <th>FINANZ_ANLEGER</th>\n",
       "      <th>FINANZ_UNAUFFAELLIGER</th>\n",
       "      <th>FINANZ_HAUSBAUER</th>\n",
       "      <th>...</th>\n",
       "      <th>PLZ8_ANTG1</th>\n",
       "      <th>PLZ8_ANTG2</th>\n",
       "      <th>PLZ8_ANTG3</th>\n",
       "      <th>PLZ8_ANTG4</th>\n",
       "      <th>PLZ8_BAUMAX</th>\n",
       "      <th>PLZ8_HHZ</th>\n",
       "      <th>PLZ8_GBZ</th>\n",
       "      <th>ARBEIT</th>\n",
       "      <th>ORTSGR_KLS9</th>\n",
       "      <th>RELAT_AB</th>\n",
       "    </tr>\n",
       "  </thead>\n",
       "  <tbody>\n",
       "    <tr>\n",
       "      <th>count</th>\n",
       "      <td>891221.000000</td>\n",
       "      <td>891221.000000</td>\n",
       "      <td>891221.000000</td>\n",
       "      <td>886367.000000</td>\n",
       "      <td>891221.000000</td>\n",
       "      <td>891221.000000</td>\n",
       "      <td>891221.000000</td>\n",
       "      <td>891221.000000</td>\n",
       "      <td>891221.000000</td>\n",
       "      <td>891221.000000</td>\n",
       "      <td>...</td>\n",
       "      <td>774706.000000</td>\n",
       "      <td>774706.000000</td>\n",
       "      <td>774706.000000</td>\n",
       "      <td>774706.000000</td>\n",
       "      <td>774706.000000</td>\n",
       "      <td>774706.000000</td>\n",
       "      <td>774706.000000</td>\n",
       "      <td>794005.000000</td>\n",
       "      <td>794005.000000</td>\n",
       "      <td>794005.00000</td>\n",
       "    </tr>\n",
       "    <tr>\n",
       "      <th>mean</th>\n",
       "      <td>-0.358435</td>\n",
       "      <td>2.777398</td>\n",
       "      <td>1.522098</td>\n",
       "      <td>3.632838</td>\n",
       "      <td>3.074528</td>\n",
       "      <td>2.821039</td>\n",
       "      <td>3.401106</td>\n",
       "      <td>3.033328</td>\n",
       "      <td>2.874167</td>\n",
       "      <td>3.075121</td>\n",
       "      <td>...</td>\n",
       "      <td>2.253330</td>\n",
       "      <td>2.801858</td>\n",
       "      <td>1.595426</td>\n",
       "      <td>0.699166</td>\n",
       "      <td>1.943913</td>\n",
       "      <td>3.612821</td>\n",
       "      <td>3.381087</td>\n",
       "      <td>3.167854</td>\n",
       "      <td>5.293002</td>\n",
       "      <td>3.07222</td>\n",
       "    </tr>\n",
       "    <tr>\n",
       "      <th>std</th>\n",
       "      <td>1.198724</td>\n",
       "      <td>1.068775</td>\n",
       "      <td>0.499512</td>\n",
       "      <td>1.595021</td>\n",
       "      <td>1.321055</td>\n",
       "      <td>1.464749</td>\n",
       "      <td>1.322134</td>\n",
       "      <td>1.529603</td>\n",
       "      <td>1.486731</td>\n",
       "      <td>1.353248</td>\n",
       "      <td>...</td>\n",
       "      <td>0.972008</td>\n",
       "      <td>0.920309</td>\n",
       "      <td>0.986736</td>\n",
       "      <td>0.727137</td>\n",
       "      <td>1.459654</td>\n",
       "      <td>0.973967</td>\n",
       "      <td>1.111598</td>\n",
       "      <td>1.002376</td>\n",
       "      <td>2.303739</td>\n",
       "      <td>1.36298</td>\n",
       "    </tr>\n",
       "    <tr>\n",
       "      <th>min</th>\n",
       "      <td>-1.000000</td>\n",
       "      <td>1.000000</td>\n",
       "      <td>1.000000</td>\n",
       "      <td>1.000000</td>\n",
       "      <td>1.000000</td>\n",
       "      <td>1.000000</td>\n",
       "      <td>1.000000</td>\n",
       "      <td>1.000000</td>\n",
       "      <td>1.000000</td>\n",
       "      <td>1.000000</td>\n",
       "      <td>...</td>\n",
       "      <td>0.000000</td>\n",
       "      <td>0.000000</td>\n",
       "      <td>0.000000</td>\n",
       "      <td>0.000000</td>\n",
       "      <td>1.000000</td>\n",
       "      <td>1.000000</td>\n",
       "      <td>1.000000</td>\n",
       "      <td>1.000000</td>\n",
       "      <td>0.000000</td>\n",
       "      <td>1.00000</td>\n",
       "    </tr>\n",
       "    <tr>\n",
       "      <th>25%</th>\n",
       "      <td>-1.000000</td>\n",
       "      <td>2.000000</td>\n",
       "      <td>1.000000</td>\n",
       "      <td>2.000000</td>\n",
       "      <td>2.000000</td>\n",
       "      <td>1.000000</td>\n",
       "      <td>3.000000</td>\n",
       "      <td>2.000000</td>\n",
       "      <td>2.000000</td>\n",
       "      <td>2.000000</td>\n",
       "      <td>...</td>\n",
       "      <td>1.000000</td>\n",
       "      <td>2.000000</td>\n",
       "      <td>1.000000</td>\n",
       "      <td>0.000000</td>\n",
       "      <td>1.000000</td>\n",
       "      <td>3.000000</td>\n",
       "      <td>3.000000</td>\n",
       "      <td>3.000000</td>\n",
       "      <td>4.000000</td>\n",
       "      <td>2.00000</td>\n",
       "    </tr>\n",
       "    <tr>\n",
       "      <th>50%</th>\n",
       "      <td>-1.000000</td>\n",
       "      <td>3.000000</td>\n",
       "      <td>2.000000</td>\n",
       "      <td>4.000000</td>\n",
       "      <td>3.000000</td>\n",
       "      <td>3.000000</td>\n",
       "      <td>3.000000</td>\n",
       "      <td>3.000000</td>\n",
       "      <td>3.000000</td>\n",
       "      <td>3.000000</td>\n",
       "      <td>...</td>\n",
       "      <td>2.000000</td>\n",
       "      <td>3.000000</td>\n",
       "      <td>2.000000</td>\n",
       "      <td>1.000000</td>\n",
       "      <td>1.000000</td>\n",
       "      <td>4.000000</td>\n",
       "      <td>3.000000</td>\n",
       "      <td>3.000000</td>\n",
       "      <td>5.000000</td>\n",
       "      <td>3.00000</td>\n",
       "    </tr>\n",
       "    <tr>\n",
       "      <th>75%</th>\n",
       "      <td>-1.000000</td>\n",
       "      <td>4.000000</td>\n",
       "      <td>2.000000</td>\n",
       "      <td>5.000000</td>\n",
       "      <td>4.000000</td>\n",
       "      <td>4.000000</td>\n",
       "      <td>5.000000</td>\n",
       "      <td>5.000000</td>\n",
       "      <td>4.000000</td>\n",
       "      <td>4.000000</td>\n",
       "      <td>...</td>\n",
       "      <td>3.000000</td>\n",
       "      <td>3.000000</td>\n",
       "      <td>2.000000</td>\n",
       "      <td>1.000000</td>\n",
       "      <td>3.000000</td>\n",
       "      <td>4.000000</td>\n",
       "      <td>4.000000</td>\n",
       "      <td>4.000000</td>\n",
       "      <td>7.000000</td>\n",
       "      <td>4.00000</td>\n",
       "    </tr>\n",
       "    <tr>\n",
       "      <th>max</th>\n",
       "      <td>3.000000</td>\n",
       "      <td>9.000000</td>\n",
       "      <td>2.000000</td>\n",
       "      <td>6.000000</td>\n",
       "      <td>5.000000</td>\n",
       "      <td>5.000000</td>\n",
       "      <td>5.000000</td>\n",
       "      <td>5.000000</td>\n",
       "      <td>5.000000</td>\n",
       "      <td>5.000000</td>\n",
       "      <td>...</td>\n",
       "      <td>4.000000</td>\n",
       "      <td>4.000000</td>\n",
       "      <td>3.000000</td>\n",
       "      <td>2.000000</td>\n",
       "      <td>5.000000</td>\n",
       "      <td>5.000000</td>\n",
       "      <td>5.000000</td>\n",
       "      <td>9.000000</td>\n",
       "      <td>9.000000</td>\n",
       "      <td>9.00000</td>\n",
       "    </tr>\n",
       "  </tbody>\n",
       "</table>\n",
       "<p>8 rows × 81 columns</p>\n",
       "</div>"
      ],
      "text/plain": [
       "            AGER_TYP  ALTERSKATEGORIE_GROB      ANREDE_KZ  CJT_GESAMTTYP  \\\n",
       "count  891221.000000         891221.000000  891221.000000  886367.000000   \n",
       "mean       -0.358435              2.777398       1.522098       3.632838   \n",
       "std         1.198724              1.068775       0.499512       1.595021   \n",
       "min        -1.000000              1.000000       1.000000       1.000000   \n",
       "25%        -1.000000              2.000000       1.000000       2.000000   \n",
       "50%        -1.000000              3.000000       2.000000       4.000000   \n",
       "75%        -1.000000              4.000000       2.000000       5.000000   \n",
       "max         3.000000              9.000000       2.000000       6.000000   \n",
       "\n",
       "       FINANZ_MINIMALIST  FINANZ_SPARER  FINANZ_VORSORGER  FINANZ_ANLEGER  \\\n",
       "count      891221.000000  891221.000000     891221.000000   891221.000000   \n",
       "mean            3.074528       2.821039          3.401106        3.033328   \n",
       "std             1.321055       1.464749          1.322134        1.529603   \n",
       "min             1.000000       1.000000          1.000000        1.000000   \n",
       "25%             2.000000       1.000000          3.000000        2.000000   \n",
       "50%             3.000000       3.000000          3.000000        3.000000   \n",
       "75%             4.000000       4.000000          5.000000        5.000000   \n",
       "max             5.000000       5.000000          5.000000        5.000000   \n",
       "\n",
       "       FINANZ_UNAUFFAELLIGER  FINANZ_HAUSBAUER      ...          PLZ8_ANTG1  \\\n",
       "count          891221.000000     891221.000000      ...       774706.000000   \n",
       "mean                2.874167          3.075121      ...            2.253330   \n",
       "std                 1.486731          1.353248      ...            0.972008   \n",
       "min                 1.000000          1.000000      ...            0.000000   \n",
       "25%                 2.000000          2.000000      ...            1.000000   \n",
       "50%                 3.000000          3.000000      ...            2.000000   \n",
       "75%                 4.000000          4.000000      ...            3.000000   \n",
       "max                 5.000000          5.000000      ...            4.000000   \n",
       "\n",
       "          PLZ8_ANTG2     PLZ8_ANTG3     PLZ8_ANTG4    PLZ8_BAUMAX  \\\n",
       "count  774706.000000  774706.000000  774706.000000  774706.000000   \n",
       "mean        2.801858       1.595426       0.699166       1.943913   \n",
       "std         0.920309       0.986736       0.727137       1.459654   \n",
       "min         0.000000       0.000000       0.000000       1.000000   \n",
       "25%         2.000000       1.000000       0.000000       1.000000   \n",
       "50%         3.000000       2.000000       1.000000       1.000000   \n",
       "75%         3.000000       2.000000       1.000000       3.000000   \n",
       "max         4.000000       3.000000       2.000000       5.000000   \n",
       "\n",
       "            PLZ8_HHZ       PLZ8_GBZ         ARBEIT    ORTSGR_KLS9  \\\n",
       "count  774706.000000  774706.000000  794005.000000  794005.000000   \n",
       "mean        3.612821       3.381087       3.167854       5.293002   \n",
       "std         0.973967       1.111598       1.002376       2.303739   \n",
       "min         1.000000       1.000000       1.000000       0.000000   \n",
       "25%         3.000000       3.000000       3.000000       4.000000   \n",
       "50%         4.000000       3.000000       3.000000       5.000000   \n",
       "75%         4.000000       4.000000       4.000000       7.000000   \n",
       "max         5.000000       5.000000       9.000000       9.000000   \n",
       "\n",
       "           RELAT_AB  \n",
       "count  794005.00000  \n",
       "mean        3.07222  \n",
       "std         1.36298  \n",
       "min         1.00000  \n",
       "25%         2.00000  \n",
       "50%         3.00000  \n",
       "75%         4.00000  \n",
       "max         9.00000  \n",
       "\n",
       "[8 rows x 81 columns]"
      ]
     },
     "execution_count": 7,
     "metadata": {},
     "output_type": "execute_result"
    }
   ],
   "source": [
    "azdias.describe()"
   ]
  },
  {
   "cell_type": "code",
   "execution_count": 8,
   "metadata": {},
   "outputs": [
    {
     "data": {
      "text/html": [
       "<div>\n",
       "<style scoped>\n",
       "    .dataframe tbody tr th:only-of-type {\n",
       "        vertical-align: middle;\n",
       "    }\n",
       "\n",
       "    .dataframe tbody tr th {\n",
       "        vertical-align: top;\n",
       "    }\n",
       "\n",
       "    .dataframe thead th {\n",
       "        text-align: right;\n",
       "    }\n",
       "</style>\n",
       "<table border=\"1\" class=\"dataframe\">\n",
       "  <thead>\n",
       "    <tr style=\"text-align: right;\">\n",
       "      <th></th>\n",
       "      <th>attribute</th>\n",
       "      <th>information_level</th>\n",
       "      <th>type</th>\n",
       "      <th>missing_or_unknown</th>\n",
       "    </tr>\n",
       "  </thead>\n",
       "  <tbody>\n",
       "    <tr>\n",
       "      <th>0</th>\n",
       "      <td>AGER_TYP</td>\n",
       "      <td>person</td>\n",
       "      <td>categorical</td>\n",
       "      <td>[-1,0]</td>\n",
       "    </tr>\n",
       "    <tr>\n",
       "      <th>1</th>\n",
       "      <td>ALTERSKATEGORIE_GROB</td>\n",
       "      <td>person</td>\n",
       "      <td>ordinal</td>\n",
       "      <td>[-1,0,9]</td>\n",
       "    </tr>\n",
       "    <tr>\n",
       "      <th>2</th>\n",
       "      <td>ANREDE_KZ</td>\n",
       "      <td>person</td>\n",
       "      <td>categorical</td>\n",
       "      <td>[-1,0]</td>\n",
       "    </tr>\n",
       "    <tr>\n",
       "      <th>3</th>\n",
       "      <td>CJT_GESAMTTYP</td>\n",
       "      <td>person</td>\n",
       "      <td>categorical</td>\n",
       "      <td>[0]</td>\n",
       "    </tr>\n",
       "    <tr>\n",
       "      <th>4</th>\n",
       "      <td>FINANZ_MINIMALIST</td>\n",
       "      <td>person</td>\n",
       "      <td>ordinal</td>\n",
       "      <td>[-1]</td>\n",
       "    </tr>\n",
       "  </tbody>\n",
       "</table>\n",
       "</div>"
      ],
      "text/plain": [
       "              attribute information_level         type missing_or_unknown\n",
       "0              AGER_TYP            person  categorical             [-1,0]\n",
       "1  ALTERSKATEGORIE_GROB            person      ordinal           [-1,0,9]\n",
       "2             ANREDE_KZ            person  categorical             [-1,0]\n",
       "3         CJT_GESAMTTYP            person  categorical                [0]\n",
       "4     FINANZ_MINIMALIST            person      ordinal               [-1]"
      ]
     },
     "execution_count": 8,
     "metadata": {},
     "output_type": "execute_result"
    }
   ],
   "source": [
    "feat_info.head()"
   ]
  },
  {
   "cell_type": "code",
   "execution_count": 9,
   "metadata": {},
   "outputs": [
    {
     "data": {
      "text/plain": [
       "(85, 4)"
      ]
     },
     "execution_count": 9,
     "metadata": {},
     "output_type": "execute_result"
    }
   ],
   "source": [
    "feat_info.shape"
   ]
  },
  {
   "cell_type": "code",
   "execution_count": 10,
   "metadata": {},
   "outputs": [
    {
     "name": "stdout",
     "output_type": "stream",
     "text": [
      "<class 'pandas.core.frame.DataFrame'>\n",
      "RangeIndex: 85 entries, 0 to 84\n",
      "Data columns (total 4 columns):\n",
      "attribute             85 non-null object\n",
      "information_level     85 non-null object\n",
      "type                  85 non-null object\n",
      "missing_or_unknown    85 non-null object\n",
      "dtypes: object(4)\n",
      "memory usage: 2.7+ KB\n"
     ]
    }
   ],
   "source": [
    "feat_info.info()"
   ]
  },
  {
   "cell_type": "markdown",
   "metadata": {},
   "source": [
    "> **Tip**: Add additional cells to keep everything in reasonably-sized chunks! Keyboard shortcut `esc --> a` (press escape to enter command mode, then press the 'A' key) adds a new cell before the active cell, and `esc --> b` adds a new cell after the active cell. If you need to convert an active cell to a markdown cell, use `esc --> m` and to convert to a code cell, use `esc --> y`. \n",
    "\n",
    "## Step 1: Preprocessing\n",
    "\n",
    "### Step 1.1: Assess Missing Data\n",
    "\n",
    "The feature summary file contains a summary of properties for each demographics data column. You will use this file to help you make cleaning decisions during this stage of the project. First of all, you should assess the demographics data in terms of missing data. Pay attention to the following points as you perform your analysis, and take notes on what you observe. Make sure that you fill in the **Discussion** cell with your findings and decisions at the end of each step that has one!\n",
    "\n",
    "#### Step 1.1.1: Convert Missing Value Codes to NaNs\n",
    "The fourth column of the feature attributes summary (loaded in above as `feat_info`) documents the codes from the data dictionary that indicate missing or unknown data. While the file encodes this as a list (e.g. `[-1,0]`), this will get read in as a string object. You'll need to do a little bit of parsing to make use of it to identify and clean the data. Convert data that matches a 'missing' or 'unknown' value code into a numpy NaN value. You might want to see how much data takes on a 'missing' or 'unknown' code, and how much data is naturally missing, as a point of interest.\n",
    "\n",
    "**As one more reminder, you are encouraged to add additional cells to break up your analysis into manageable chunks.**"
   ]
  },
  {
   "cell_type": "code",
   "execution_count": 11,
   "metadata": {},
   "outputs": [
    {
     "data": {
      "text/plain": [
       "4896838"
      ]
     },
     "execution_count": 11,
     "metadata": {},
     "output_type": "execute_result"
    }
   ],
   "source": [
    "azdias.isna().sum().sum()"
   ]
  },
  {
   "cell_type": "code",
   "execution_count": 12,
   "metadata": {},
   "outputs": [],
   "source": [
    "# Identify missing or unknown data values and convert them to NaNs.\n",
    "\n",
    "# Convert values of missing_or_unknown column from string to list\n",
    "feat_info['missing_or_unknown'] = feat_info['missing_or_unknown'].apply(lambda x: x.strip('][').split(','))"
   ]
  },
  {
   "cell_type": "code",
   "execution_count": 13,
   "metadata": {},
   "outputs": [],
   "source": [
    "# Convert missing or unknown data values to NaNs\n",
    "count = 0\n",
    "for column, code in zip(azdias, feat_info['missing_or_unknown']):\n",
    "    \n",
    "    # Check if the feature has codes for missing or unknown values\n",
    "    if code[0] != '':\n",
    "        \n",
    "        # Convert missing and unknown data to NaNs for object columns\n",
    "        if azdias[column].dtypes == 'object':\n",
    "            count += len(azdias[azdias[column].isin(code)])\n",
    "            azdias[column] = azdias[column].replace(code, np.nan)\n",
    "        \n",
    "        # Convert missing and unknown data to NaNs for numeric columns\n",
    "        else:\n",
    "            code_c = [eval(x) for x in code] # Convert codes from string to numeric type\n",
    "            count += len(azdias[azdias[column].isin(code_c)])\n",
    "            azdias[column] = azdias[column].replace(code_c, np.nan)"
   ]
  },
  {
   "cell_type": "code",
   "execution_count": 14,
   "metadata": {},
   "outputs": [
    {
     "name": "stdout",
     "output_type": "stream",
     "text": [
      "Total number of data with missing or unknown codes: 3477091\n"
     ]
    }
   ],
   "source": [
    "print('Total number of data with missing or unknown codes:', count)"
   ]
  },
  {
   "cell_type": "markdown",
   "metadata": {},
   "source": [
    "#### Step 1.1.2: Assess Missing Data in Each Column\n",
    "\n",
    "How much missing data is present in each column? There are a few columns that are outliers in terms of the proportion of values that are missing. You will want to use matplotlib's [`hist()`](https://matplotlib.org/api/_as_gen/matplotlib.pyplot.hist.html) function to visualize the distribution of missing value counts to find these columns. Identify and document these columns. While some of these columns might have justifications for keeping or re-encoding the data, for this project you should just remove them from the dataframe. (Feel free to make remarks about these outlier columns in the discussion, however!)\n",
    "\n",
    "For the remaining features, are there any patterns in which columns have, or share, missing data?"
   ]
  },
  {
   "cell_type": "code",
   "execution_count": 15,
   "metadata": {},
   "outputs": [],
   "source": [
    "# Perform an assessment of how much missing data there is in each column of the\n",
    "# dataset.\n",
    "\n",
    "# Create a dictionary contains column name as key and number of missing data as value\n",
    "count_nan_dic = azdias.isna().sum().to_dict()"
   ]
  },
  {
   "cell_type": "code",
   "execution_count": 16,
   "metadata": {},
   "outputs": [
    {
     "data": {
      "image/png": "[encoded data removed]",
      "text/plain": [
       "<matplotlib.figure.Figure at 0x7f13b1a3e860>"
      ]
     },
     "metadata": {
      "needs_background": "light"
     },
     "output_type": "display_data"
    }
   ],
   "source": [
    "# Investigate patterns in the amount of missing data in each column.\n",
    "\n",
    "# Plot histogram for the number of missing data in columns\n",
    "plt.figure(figsize=(20,7))\n",
    "plt.hist(count_nan_dic.values())\n",
    "  \n",
    "plt.title('Histogram for number of missing data in columns')\n",
    "plt.xlabel('Number of missing data')\n",
    "plt.ylabel('Count columns')\n",
    "plt.grid(color = 'green', linestyle = '--', linewidth = 0.5)\n",
    "\n",
    "plt.show()"
   ]
  },
  {
   "cell_type": "code",
   "execution_count": 17,
   "metadata": {
    "scrolled": true
   },
   "outputs": [
    {
     "name": "stdout",
     "output_type": "stream",
     "text": [
      "Removed columns from dataset: ['AGER_TYP', 'GEBURTSJAHR', 'TITEL_KZ', 'ALTER_HH', 'KK_KUNDENTYP', 'KBA05_BAUMAX']\n"
     ]
    }
   ],
   "source": [
    "# Remove the outlier columns from the dataset. (You'll perform other data\n",
    "# engineering tasks such as re-encoding and imputation later.)\n",
    "\n",
    "# Make a list of all columns' name that have more than 200,000 missing values\n",
    "drop_col_names = [k for k, v in count_nan_dic.items() if v > 200000]\n",
    "print('Removed columns from dataset:', drop_col_names)\n",
    "\n",
    "# Drop outlier columns\n",
    "azdias.drop(columns=drop_col_names, inplace=True)\n"
   ]
  },
  {
   "cell_type": "code",
   "execution_count": 18,
   "metadata": {},
   "outputs": [
    {
     "name": "stdout",
     "output_type": "stream",
     "text": [
      "Number of remaining features in in the dataset: 79\n"
     ]
    }
   ],
   "source": [
    "# Print number of features after droping outliers\n",
    "print('Number of remaining features in in the dataset:', azdias.shape[1])"
   ]
  },
  {
   "cell_type": "markdown",
   "metadata": {},
   "source": [
    "#### Discussion 1.1.2: Assess Missing Data in Each Column\n",
    "\n",
    "By looking at the histogram of missing data in each column, most of them have a number of missing data between 0 to almost 200,000. As the histogram shows a right-skewed distribution, there are also some outlier columns in terms of missing data. Six columns have been removed from the dataset and their names are listed above."
   ]
  },
  {
   "cell_type": "markdown",
   "metadata": {},
   "source": [
    "#### Step 1.1.3: Assess Missing Data in Each Row\n",
    "\n",
    "Now, you'll perform a similar assessment for the rows of the dataset. How much data is missing in each row? As with the columns, you should see some groups of points that have a very different numbers of missing values. Divide the data into two subsets: one for data points that are above some threshold for missing values, and a second subset for points below that threshold.\n",
    "\n",
    "In order to know what to do with the outlier rows, we should see if the distribution of data values on columns that are not missing data (or are missing very little data) are similar or different between the two groups. Select at least five of these columns and compare the distribution of values.\n",
    "- You can use seaborn's [`countplot()`](https://seaborn.pydata.org/generated/seaborn.countplot.html) function to create a bar chart of code frequencies and matplotlib's [`subplot()`](https://matplotlib.org/api/_as_gen/matplotlib.pyplot.subplot.html) function to put bar charts for the two subplots side by side.\n",
    "- To reduce repeated code, you might want to write a function that can perform this comparison, taking as one of its arguments a column to be compared.\n",
    "\n",
    "Depending on what you observe in your comparison, this will have implications on how you approach your conclusions later in the analysis. If the distributions of non-missing features look similar between the data with many missing values and the data with few or no missing values, then we could argue that simply dropping those points from the analysis won't present a major issue. On the other hand, if the data with many missing values looks very different from the data with few or no missing values, then we should make a note on those data as special. We'll revisit these data later on. **Either way, you should continue your analysis for now using just the subset of the data with few or no missing values.**"
   ]
  },
  {
   "cell_type": "code",
   "execution_count": 19,
   "metadata": {},
   "outputs": [
    {
     "data": {
      "image/png": "[encoded data removed]",
      "text/plain": [
       "<matplotlib.figure.Figure at 0x7f13b19fe9b0>"
      ]
     },
     "metadata": {
      "needs_background": "light"
     },
     "output_type": "display_data"
    }
   ],
   "source": [
    "# How much data is missing in each row of the dataset?\n",
    "\n",
    "# Calculate the number of missing values in each row\n",
    "miss_val_row = azdias.isna().sum(axis=1)\n",
    "\n",
    "# Plot the histogram for numbre of missing values in rows\n",
    "plt.figure(figsize=(20,7))\n",
    "sns.countplot(miss_val_row)\n",
    "plt.grid(color = 'green', linestyle = '--', linewidth = 0.5)\n",
    "plt.xlabel('Number of missing data')\n",
    "plt.xticks(rotation=90)\n",
    "plt.show()"
   ]
  },
  {
   "cell_type": "code",
   "execution_count": 20,
   "metadata": {},
   "outputs": [],
   "source": [
    "# Write code to divide the data into two subsets based on the number of missing\n",
    "# values in each row.\n",
    "\n",
    "# Select two subsets of row with lower than 5 and higher than 20 number of \n",
    "# missing values\n",
    "subset1_index = list(miss_val_row[miss_val_row < 5].index.values)\n",
    "subset2_index = list(miss_val_row[miss_val_row > 5].index.values)\n",
    "\n",
    "subset1 = azdias[azdias.index.isin(subset1_index)].copy()\n",
    "subset2 = azdias[azdias.index.isin(subset2_index)].copy()"
   ]
  },
  {
   "cell_type": "code",
   "execution_count": 21,
   "metadata": {
    "scrolled": false
   },
   "outputs": [
    {
     "data": {
      "image/png": "[encoded data removed]",
      "text/plain": [
       "<matplotlib.figure.Figure at 0x7f13af8c15c0>"
      ]
     },
     "metadata": {
      "needs_background": "light"
     },
     "output_type": "display_data"
    },
    {
     "data": {
      "image/png": "[encoded data removed]",
      "text/plain": [
       "<matplotlib.figure.Figure at 0x7f13af78a358>"
      ]
     },
     "metadata": {
      "needs_background": "light"
     },
     "output_type": "display_data"
    },
    {
     "data": {
      "image/png": "[encoded data removed]",
      "text/plain": [
       "<matplotlib.figure.Figure at 0x7f13ae3724a8>"
      ]
     },
     "metadata": {
      "needs_background": "light"
     },
     "output_type": "display_data"
    },
    {
     "data": {
      "image/png": "[encoded data removed]",
      "text/plain": [
       "<matplotlib.figure.Figure at 0x7f13ae372b00>"
      ]
     },
     "metadata": {
      "needs_background": "light"
     },
     "output_type": "display_data"
    },
    {
     "data": {
      "image/png": "[encoded data removed]",
      "text/plain": [
       "<matplotlib.figure.Figure at 0x7f13adfc7a90>"
      ]
     },
     "metadata": {
      "needs_background": "light"
     },
     "output_type": "display_data"
    }
   ],
   "source": [
    "# Compare the distribution of values for at least five columns where there are\n",
    "# no or few missing values, between the two subsets.\n",
    "\n",
    "# Import random to randomly pick 5 columns with no missing values\n",
    "import random\n",
    "\n",
    "def plot_distribution(column):\n",
    "    # The function plots the distribution of values in input column for both subsets\n",
    "    fig, (ax1, ax2) = plt.subplots(1, 2,figsize=(15,5))\n",
    "    fig.suptitle('Histogram of values in column {}'.format(column))\n",
    "    \n",
    "    ax1.hist(subset1[column])\n",
    "    #sns.histplot(data=subset1[column], kde=True, stat='density', ax=ax1)\n",
    "    #sns.countplot(ax=ax1, data=subset1[column])\n",
    "    ax1.set_title('Histogram for subset 1'.format(column))\n",
    "    ax1.set_xlabel('Value')\n",
    "    ax1.set_ylabel('Count')\n",
    "    ax1.grid(color = 'green', linestyle = '--', linewidth = 0.5)\n",
    "    \n",
    "    ax2.hist(subset2[column])\n",
    "    #sns.histplot(data=subset2[column], kde=True, stat='density', ax=ax2)\n",
    "    ax2.set_title('Histogram for subset 2')\n",
    "    ax2.set_xlabel('Value')\n",
    "    ax2.set_ylabel('Count')\n",
    "    ax2.grid(color = 'green', linestyle = '--', linewidth = 0.5)\n",
    "    \n",
    "    plt.subplots_adjust(wspace=0.5)\n",
    "    return plt.show()\n",
    "\n",
    "# Columns without any missing values  \n",
    "columns_name = list(azdias.columns[azdias.isna().sum()==0])\n",
    "\n",
    "# Choose 5 columns randomly\n",
    "columns_name_5 = random.sample(columns_name, 5)\n",
    "\n",
    "\n",
    "for column in columns_name_5:\n",
    "    plot_distribution(column)"
   ]
  },
  {
   "cell_type": "markdown",
   "metadata": {},
   "source": [
    "#### Discussion 1.1.3: Assess Missing Data in Each Row\n",
    "\n",
    "The plots display the histogram of values in 5 randomly selected columns (without missing values) that are completely different in the two subsets. We can conclude that the distribution of data between the two subsets is different and we should treat the second subset separately."
   ]
  },
  {
   "cell_type": "markdown",
   "metadata": {},
   "source": [
    "### Step 1.2: Select and Re-Encode Features\n",
    "\n",
    "Checking for missing data isn't the only way in which you can prepare a dataset for analysis. Since the unsupervised learning techniques to be used will only work on data that is encoded numerically, you need to make a few encoding changes or additional assumptions to be able to make progress. In addition, while almost all of the values in the dataset are encoded using numbers, not all of them represent numeric values. Check the third column of the feature summary (`feat_info`) for a summary of types of measurement.\n",
    "- For numeric and interval data, these features can be kept without changes.\n",
    "- Most of the variables in the dataset are ordinal in nature. While ordinal values may technically be non-linear in spacing, make the simplifying assumption that the ordinal variables can be treated as being interval in nature (that is, kept without any changes).\n",
    "- Special handling may be necessary for the remaining two variable types: categorical, and 'mixed'.\n",
    "\n",
    "In the first two parts of this sub-step, you will perform an investigation of the categorical and mixed-type features and make a decision on each of them, whether you will keep, drop, or re-encode each. Then, in the last part, you will create a new data frame with only the selected and engineered columns.\n",
    "\n",
    "Data wrangling is often the trickiest part of the data analysis process, and there's a lot of it to be done here. But stick with it: once you're done with this step, you'll be ready to get to the machine learning parts of the project!"
   ]
  },
  {
   "cell_type": "code",
   "execution_count": 22,
   "metadata": {},
   "outputs": [
    {
     "data": {
      "text/plain": [
       "Counter({'ordinal': 49, 'categorical': 18, 'mixed': 6, 'numeric': 6})"
      ]
     },
     "execution_count": 22,
     "metadata": {},
     "output_type": "execute_result"
    }
   ],
   "source": [
    "# How many features are there of each data type?\n",
    "from collections import Counter\n",
    "feat_info_subset1 = feat_info[feat_info['attribute'].isin(subset1.columns.tolist())]\n",
    "Counter(feat_info_subset1['type'])"
   ]
  },
  {
   "cell_type": "markdown",
   "metadata": {},
   "source": [
    "#### Step 1.2.1: Re-Encode Categorical Features\n",
    "\n",
    "For categorical data, you would ordinarily need to encode the levels as dummy variables. Depending on the number of categories, perform one of the following:\n",
    "- For binary (two-level) categoricals that take numeric values, you can keep them without needing to do anything.\n",
    "- There is one binary variable that takes on non-numeric values. For this one, you need to re-encode the values as numbers or create a dummy variable.\n",
    "- For multi-level categoricals (three or more values), you can choose to encode the values using multiple dummy variables (e.g. via [OneHotEncoder](http://scikit-learn.org/stable/modules/generated/sklearn.preprocessing.OneHotEncoder.html)), or (to keep things straightforward) just drop them from the analysis. As always, document your choices in the Discussion section."
   ]
  },
  {
   "cell_type": "code",
   "execution_count": 23,
   "metadata": {},
   "outputs": [
    {
     "name": "stdout",
     "output_type": "stream",
     "text": [
      "ANREDE_KZ --- unique values:  [2 1]\n",
      "CJT_GESAMTTYP --- unique values:  [ 5.  3.  2.  4.  1.  6.]\n",
      "FINANZTYP --- unique values:  [1 5 2 4 6 3]\n",
      "GFK_URLAUBERTYP --- unique values:  [ 10.   5.   1.  12.   9.   3.   8.  11.   4.   7.   6.   2.]\n",
      "GREEN_AVANTGARDE --- unique values:  [0 1]\n",
      "LP_FAMILIE_FEIN --- unique values:  [  5.   1.  10.   2.   7.  11.   8.   4.   6.   9.   3.]\n",
      "LP_FAMILIE_GROB --- unique values:  [ 3.  1.  5.  2.  4.]\n",
      "LP_STATUS_FEIN --- unique values:  [  2.   3.   4.   1.  10.   8.   9.   5.   6.   7.]\n",
      "LP_STATUS_GROB --- unique values:  [ 1.  2.  5.  4.  3.]\n",
      "NATIONALITAET_KZ --- unique values:  [  1.   2.  nan   3.]\n",
      "SHOPPER_TYP --- unique values:  [  3.   2.   0.   1.  nan]\n",
      "SOHO_KZ --- unique values:  [ 1.  0.]\n",
      "VERS_TYP --- unique values:  [  2.   1.  nan]\n",
      "ZABEOTYP --- unique values:  [5 4 1 6 3 2]\n",
      "GEBAEUDETYP --- unique values:  [ 8.  1.  3.  6.  2.  4.  5.]\n",
      "OST_WEST_KZ --- unique values:  ['W' 'O']\n",
      "CAMEO_DEUG_2015 --- unique values:  ['8' '4' '6' '2' '1' '9' '5' '3' '7' nan]\n",
      "CAMEO_DEU_2015 --- unique values:  ['8A' '4C' '6B' '8C' '4A' '2D' '1A' '1E' '9D' '5D' '9E' '9B' '2A' '1B' '8B'\n",
      " '3D' '7A' nan '4E' '4B' '3C' '5A' '7B' '9A' '6D' '6E' '2C' '5C' '9C' '7D'\n",
      " '5E' '1D' '8D' '6C' '6A' '5B' '7C' '4D' '3A' '2B' '7E' '3B' '6F' '5F' '1C']\n"
     ]
    }
   ],
   "source": [
    "# Assess categorical variables: which are binary, which are multi-level, and\n",
    "# which one needs to be re-encoded?\n",
    "\n",
    "# Filter the categorical features from feat_info_subset1\n",
    "feat_cat = feat_info_subset1[feat_info_subset1['type']=='categorical'].copy()\n",
    "\n",
    "# Print unique values for each categorical features\n",
    "for column in feat_cat['attribute']:\n",
    "    print(column, '--- unique values: ', subset1[column].unique())"
   ]
  },
  {
   "cell_type": "code",
   "execution_count": 24,
   "metadata": {},
   "outputs": [
    {
     "name": "stdout",
     "output_type": "stream",
     "text": [
      "Number of unique values in column CAMEO_DEU_2015:  45\n"
     ]
    }
   ],
   "source": [
    "print('Number of unique values in column CAMEO_DEU_2015: ', len(subset1['CAMEO_DEU_2015'].unique()))"
   ]
  },
  {
   "cell_type": "code",
   "execution_count": 25,
   "metadata": {},
   "outputs": [],
   "source": [
    "# Re-encode categorical variable(s) to be kept in the analysis.\n",
    "\n",
    "# Drop the CAMEO_DEU_2015 column\n",
    "subset1.drop(columns=['CAMEO_DEU_2015'], inplace=True)\n",
    "\n",
    "# Convert the CAMEO_DEUG_2015 column values to numeric values\n",
    "subset1['CAMEO_DEUG_2015'] = pd.to_numeric(subset1['CAMEO_DEUG_2015'])\n",
    "\n",
    "# Convert the OST_WEST_KZ column values to dummy variables\n",
    "subset1 = pd.get_dummies(subset1, prefix=['OST_WEST_KZ'], columns=['OST_WEST_KZ'])\n",
    "\n",
    "#subset1_final"
   ]
  },
  {
   "cell_type": "code",
   "execution_count": 26,
   "metadata": {},
   "outputs": [
    {
     "name": "stdout",
     "output_type": "stream",
     "text": [
      "Number of columns in after re-encoding:  79\n"
     ]
    }
   ],
   "source": [
    "print('Number of columns in after re-encoding: ', len(subset1.columns))"
   ]
  },
  {
   "cell_type": "markdown",
   "metadata": {},
   "source": [
    "#### Discussion 1.2.1: Re-Encode Categorical Features\n",
    "\n",
    "I have changed the data type of column \"CAMEO_DEUG_2015\" to numeric because they had numeric values but in a string format. In addition, column \"CAMEO_DEU_2015\" had 45 unique values which means if we wanted to encode the values using dummy variables, we would have 43 columns more in the dataset. To keep it simple, I have dropped this column from the dataset."
   ]
  },
  {
   "cell_type": "markdown",
   "metadata": {},
   "source": [
    "#### Step 1.2.2: Engineer Mixed-Type Features\n",
    "\n",
    "There are a handful of features that are marked as \"mixed\" in the feature summary that require special treatment in order to be included in the analysis. There are two in particular that deserve attention; the handling of the rest are up to your own choices:\n",
    "- \"PRAEGENDE_JUGENDJAHRE\" combines information on three dimensions: generation by decade, movement (mainstream vs. avantgarde), and nation (east vs. west). While there aren't enough levels to disentangle east from west, you should create two new variables to capture the other two dimensions: an interval-type variable for decade, and a binary variable for movement.\n",
    "- \"CAMEO_INTL_2015\" combines information on two axes: wealth and life stage. Break up the two-digit codes by their 'tens'-place and 'ones'-place digits into two new ordinal variables (which, for the purposes of this project, is equivalent to just treating them as their raw numeric values).\n",
    "- If you decide to keep or engineer new features around the other mixed-type features, make sure you note your steps in the Discussion section.\n",
    "\n",
    "Be sure to check `Data_Dictionary.md` for the details needed to finish these tasks."
   ]
  },
  {
   "cell_type": "code",
   "execution_count": 27,
   "metadata": {},
   "outputs": [
    {
     "data": {
      "text/html": [
       "<div>\n",
       "<style scoped>\n",
       "    .dataframe tbody tr th:only-of-type {\n",
       "        vertical-align: middle;\n",
       "    }\n",
       "\n",
       "    .dataframe tbody tr th {\n",
       "        vertical-align: top;\n",
       "    }\n",
       "\n",
       "    .dataframe thead th {\n",
       "        text-align: right;\n",
       "    }\n",
       "</style>\n",
       "<table border=\"1\" class=\"dataframe\">\n",
       "  <thead>\n",
       "    <tr style=\"text-align: right;\">\n",
       "      <th></th>\n",
       "      <th>attribute</th>\n",
       "      <th>information_level</th>\n",
       "      <th>type</th>\n",
       "      <th>missing_or_unknown</th>\n",
       "    </tr>\n",
       "  </thead>\n",
       "  <tbody>\n",
       "    <tr>\n",
       "      <th>15</th>\n",
       "      <td>LP_LEBENSPHASE_FEIN</td>\n",
       "      <td>person</td>\n",
       "      <td>mixed</td>\n",
       "      <td>[0]</td>\n",
       "    </tr>\n",
       "    <tr>\n",
       "      <th>16</th>\n",
       "      <td>LP_LEBENSPHASE_GROB</td>\n",
       "      <td>person</td>\n",
       "      <td>mixed</td>\n",
       "      <td>[0]</td>\n",
       "    </tr>\n",
       "    <tr>\n",
       "      <th>22</th>\n",
       "      <td>PRAEGENDE_JUGENDJAHRE</td>\n",
       "      <td>person</td>\n",
       "      <td>mixed</td>\n",
       "      <td>[-1, 0]</td>\n",
       "    </tr>\n",
       "    <tr>\n",
       "      <th>56</th>\n",
       "      <td>WOHNLAGE</td>\n",
       "      <td>building</td>\n",
       "      <td>mixed</td>\n",
       "      <td>[-1]</td>\n",
       "    </tr>\n",
       "    <tr>\n",
       "      <th>59</th>\n",
       "      <td>CAMEO_INTL_2015</td>\n",
       "      <td>microcell_rr4</td>\n",
       "      <td>mixed</td>\n",
       "      <td>[-1, XX]</td>\n",
       "    </tr>\n",
       "    <tr>\n",
       "      <th>79</th>\n",
       "      <td>PLZ8_BAUMAX</td>\n",
       "      <td>macrocell_plz8</td>\n",
       "      <td>mixed</td>\n",
       "      <td>[-1, 0]</td>\n",
       "    </tr>\n",
       "  </tbody>\n",
       "</table>\n",
       "</div>"
      ],
      "text/plain": [
       "                attribute information_level   type missing_or_unknown\n",
       "15    LP_LEBENSPHASE_FEIN            person  mixed                [0]\n",
       "16    LP_LEBENSPHASE_GROB            person  mixed                [0]\n",
       "22  PRAEGENDE_JUGENDJAHRE            person  mixed            [-1, 0]\n",
       "56               WOHNLAGE          building  mixed               [-1]\n",
       "59        CAMEO_INTL_2015     microcell_rr4  mixed           [-1, XX]\n",
       "79            PLZ8_BAUMAX    macrocell_plz8  mixed            [-1, 0]"
      ]
     },
     "execution_count": 27,
     "metadata": {},
     "output_type": "execute_result"
    }
   ],
   "source": [
    "feat_info_subset1[feat_info_subset1['type']=='mixed']"
   ]
  },
  {
   "cell_type": "code",
   "execution_count": 28,
   "metadata": {},
   "outputs": [
    {
     "data": {
      "text/plain": [
       "array([ 14.,  15.,   8.,   3.,  10.,  11.,   9.,   6.,   4.,  nan,   5.,\n",
       "         2.,   1.,  12.,  13.,   7.])"
      ]
     },
     "execution_count": 28,
     "metadata": {},
     "output_type": "execute_result"
    }
   ],
   "source": [
    "subset1['PRAEGENDE_JUGENDJAHRE'].unique()"
   ]
  },
  {
   "cell_type": "code",
   "execution_count": 29,
   "metadata": {},
   "outputs": [],
   "source": [
    "# Investigate \"PRAEGENDE_JUGENDJAHRE\" and engineer two new variables.\n",
    "\n",
    "# Create lists contain codes for each decade\n",
    "d_40s = [1,2]\n",
    "d_50s = [3,4]\n",
    "d_60s = [5,6,7]\n",
    "d_70s = [8,9]\n",
    "d_80s = [10, 11, 12, 13]\n",
    "d_90s = [14, 15]\n",
    "\n",
    "# Create a list that captures the decade information in \"PRAEGENDE_JUGENDJAHRE\"\n",
    "decade_list = [4 if x in d_40s else 5 if x in d_50s else 6 if x in d_60s \n",
    "               else 7 if x in d_70s else 8 if x in d_80s else 9 if x in d_90s\n",
    "               else np.nan\n",
    "               for x in subset1['PRAEGENDE_JUGENDJAHRE']]\n",
    "\n",
    "# Create a column for decade information\n",
    "subset1['PRAEGENDE_JUGENDJAHRE_DECADE'] = decade_list\n",
    "\n",
    "\n",
    "# Create lists containing codes for each movement\n",
    "mainstream_codes = [1, 3, 5, 8, 10, 12, 14] \n",
    "avantgarde_codes = [2, 4, 6, 7, 9, 11, 13, 15]\n",
    "\n",
    "# Make a list that capture the movement information in \"PRAEGENDE_JUGENDJAHRE\"\n",
    "movement_list = [0 if x in mainstream_codes else 1 if x in avantgarde_codes \n",
    "                 else np.nan\n",
    "                 for x in subset1['PRAEGENDE_JUGENDJAHRE']]\n",
    "\n",
    "# Create a new column for movement information\n",
    "subset1['PRAEGENDE_JUGENDJAHRE_MOVEMENT'] = movement_list"
   ]
  },
  {
   "cell_type": "code",
   "execution_count": 30,
   "metadata": {},
   "outputs": [
    {
     "data": {
      "text/plain": [
       "array(['51', '24', '43', '54', '22', '14', '13', '15', '34', '55', '12',\n",
       "       '41', '25', nan, '23', '31', '52', '35', '45', '33', '44', '32'], dtype=object)"
      ]
     },
     "execution_count": 30,
     "metadata": {},
     "output_type": "execute_result"
    }
   ],
   "source": [
    "subset1['CAMEO_INTL_2015'].unique()"
   ]
  },
  {
   "cell_type": "code",
   "execution_count": 31,
   "metadata": {},
   "outputs": [],
   "source": [
    "# Convert \"CAMEO_INTL_2015\" values to numeric values\n",
    "subset1['CAMEO_INTL_2015'] = pd.to_numeric(subset1['CAMEO_INTL_2015'])"
   ]
  },
  {
   "cell_type": "code",
   "execution_count": 32,
   "metadata": {},
   "outputs": [],
   "source": [
    "# Investigate \"CAMEO_INTL_2015\" and engineer two new variables.\n",
    "\n",
    "# Create a list of wealth information\n",
    "wealth_list = [int(x/10) if not np.isnan(x) else np.nan for x in subset1['CAMEO_INTL_2015']]\n",
    "# Create a column for wealth information\n",
    "subset1['CAMEO_INTL_2015_WEALTH'] = wealth_list\n",
    "\n",
    "# Create list of life stage information\n",
    "life_stage_list = [x%10 if not np.isnan(x) else np.nan for x in subset1['CAMEO_INTL_2015']]\n",
    "# Create column for life stage information\n",
    "subset1['CAMEO_INTL_2015_LIFE_STAGE'] = life_stage_list"
   ]
  },
  {
   "cell_type": "code",
   "execution_count": 33,
   "metadata": {},
   "outputs": [],
   "source": [
    "subset1.drop(columns=['LP_LEBENSPHASE_FEIN', 'LP_LEBENSPHASE_GROB'], inplace=True)"
   ]
  },
  {
   "cell_type": "markdown",
   "metadata": {},
   "source": [
    "#### Discussion 1.2.2: Engineer Mixed-Type Features\n",
    "\n",
    "In general, there are 6 columns that contain mixed values. For the \"PRAEGENDE_JUGENDJAHRE\" column, I extracted the information for decade and movement and put them into new columns. Also, I create two new columns for wealth and life stage information in the \"CAMEO_INTL_2015\" column. Moreover, I have dropped the columns \"LP_LEBENSPHASE_FEIN\" and \"LP_LEBENSPHASE_GROB\" that have detailed information regarding the life stage because we already have general information for the life stage in the new generated column \"CAMEO_INTL_2015_LIFE_STAGE\". \n",
    "In the end, I just keep the \"PLZ8_BAUMAX\" and \"WOHNLAGE\" columns untouched because they already contain nicely separated categories regrading common building types and neighborhood quality and there is no need for engineering."
   ]
  },
  {
   "cell_type": "markdown",
   "metadata": {},
   "source": [
    "#### Step 1.2.3: Complete Feature Selection\n",
    "\n",
    "In order to finish this step up, you need to make sure that your data frame now only has the columns that you want to keep. To summarize, the dataframe should consist of the following:\n",
    "- All numeric, interval, and ordinal type columns from the original dataset.\n",
    "- Binary categorical features (all numerically-encoded).\n",
    "- Engineered features from other multi-level categorical features and mixed features.\n",
    "\n",
    "Make sure that for any new columns that you have engineered, that you've excluded the original columns from the final dataset. Otherwise, their values will interfere with the analysis later on the project. For example, you should not keep \"PRAEGENDE_JUGENDJAHRE\", since its values won't be useful for the algorithm: only the values derived from it in the engineered features you created should be retained. As a reminder, your data should only be from **the subset with few or no missing values**."
   ]
  },
  {
   "cell_type": "code",
   "execution_count": 34,
   "metadata": {},
   "outputs": [],
   "source": [
    "# If there are other re-engineering tasks you need to perform, make sure you\n",
    "# take care of them here. (Dealing with missing data will come in step 2.1.)\n",
    "subset1.drop(columns=['PRAEGENDE_JUGENDJAHRE', 'CAMEO_INTL_2015'], inplace=True)"
   ]
  },
  {
   "cell_type": "code",
   "execution_count": 35,
   "metadata": {},
   "outputs": [],
   "source": [
    "# Do whatever you need to in order to ensure that the dataframe only contains\n",
    "# the columns that should be passed to the algorithm functions."
   ]
  },
  {
   "cell_type": "markdown",
   "metadata": {},
   "source": [
    "### Step 1.3: Create a Cleaning Function\n",
    "\n",
    "Even though you've finished cleaning up the general population demographics data, it's important to look ahead to the future and realize that you'll need to perform the same cleaning steps on the customer demographics data. In this substep, complete the function below to execute the main feature selection, encoding, and re-engineering steps you performed above. Then, when it comes to looking at the customer data in Step 3, you can just run this function on that DataFrame to get the trimmed dataset in a single step."
   ]
  },
  {
   "cell_type": "code",
   "execution_count": 36,
   "metadata": {},
   "outputs": [],
   "source": [
    "def clean_data(df):\n",
    "    \"\"\"\n",
    "    Perform feature trimming, re-encoding, and engineering for demographics\n",
    "    data\n",
    "    \n",
    "    INPUT: Demographics DataFrame\n",
    "    OUTPUT: Trimmed and cleaned demographics DataFrame\n",
    "    \"\"\"\n",
    "    \n",
    "    # Put in code here to execute all main cleaning steps:\n",
    "    # -------------------------------------------------------------------------------\n",
    "    \n",
    "    # convert missing value codes into NaNs, ...\n",
    "    for column, code in zip(df, feat_info['missing_or_unknown']):\n",
    "    \n",
    "        # Check if the feature has codes for missing or unknown values\n",
    "        if code[0] != '':\n",
    "            \n",
    "            # Convert the codes from string to correct type for object type columns\n",
    "            if df[column].dtypes == 'object':\n",
    "                df[column] = df[column].replace(code, np.nan)\n",
    "                \n",
    "            # Convert the codes from string to correct type for numeric type columns\n",
    "            else:\n",
    "                code_c = [eval(x) for x in code]\n",
    "                df[column] = df[column].replace(code_c, np.nan)\n",
    "    # -------------------------------------------------------------------------------\n",
    "    \n",
    "    # remove selected columns and rows, ...\n",
    "    #count_nan_dic = df.isna().sum().to_dict()\n",
    "    drop_col_names = ['AGER_TYP', 'GEBURTSJAHR', 'TITEL_KZ', 'ALTER_HH', 'KK_KUNDENTYP', 'KBA05_BAUMAX']\n",
    "    df.drop(columns=drop_col_names, inplace=True)\n",
    "    \n",
    "    miss_val_row = df.isna().sum(axis=1)\n",
    "    subset1_index = list(miss_val_row[miss_val_row < 10].index.values)\n",
    "    subset2_index = list(miss_val_row[miss_val_row > 10].index.values)\n",
    "    \n",
    "    subset1 = df[df.index.isin(subset1_index)].copy()\n",
    "    subset2 = df[df.index.isin(subset2_index)].copy()\n",
    "    \n",
    "    subset1.drop(columns=['CAMEO_DEU_2015'], inplace=True)\n",
    "    # -------------------------------------------------------------------------------\n",
    "\n",
    "    # select, re-encode, and engineer column values.\n",
    "    subset1['CAMEO_DEUG_2015'] = pd.to_numeric(subset1['CAMEO_DEUG_2015'])\n",
    "    subset1['CAMEO_INTL_2015'] = pd.to_numeric(subset1['CAMEO_INTL_2015'])\n",
    "    subset1 = pd.get_dummies(subset1, prefix=['OST_WEST_KZ'], columns=['OST_WEST_KZ'])\n",
    "    \n",
    "    d_40s = [1,2]\n",
    "    d_50s = [3,4]\n",
    "    d_60s = [5,6,7]\n",
    "    d_70s = [8,9]\n",
    "    d_80s = [10, 11, 12, 13]\n",
    "    d_90s = [14, 15]\n",
    "    decade_list = [4 if x in d_40s else 5 if x in d_50s else 6 if x in d_60s \n",
    "                   else 7 if x in d_70s else 8 if x in d_80s else 9 if x in d_90s\n",
    "                   else np.nan\n",
    "                   for x in subset1['PRAEGENDE_JUGENDJAHRE']]\n",
    "    subset1['PRAEGENDE_JUGENDJAHRE_DECADE'] = decade_list\n",
    "\n",
    "    mainstream_codes = [1, 3, 5, 8, 10, 12, 14] \n",
    "    avantgarde_codes = [2, 4, 6, 7, 9, 11, 13, 15]\n",
    "    movement_list = [0 if x in mainstream_codes else 1 if x in avantgarde_codes \n",
    "                     else np.nan\n",
    "                     for x in subset1['PRAEGENDE_JUGENDJAHRE']]\n",
    "    subset1['PRAEGENDE_JUGENDJAHRE_MOVEMENT'] = movement_list\n",
    "    \n",
    "    wealth_list = [int(x/10) if not np.isnan(x) else np.nan for x in subset1['CAMEO_INTL_2015']]\n",
    "    subset1['CAMEO_INTL_2015_WEALTH'] = wealth_list\n",
    "\n",
    "    life_stage_list = [x%10 if not np.isnan(x) else np.nan for x in subset1['CAMEO_INTL_2015']]\n",
    "    subset1['CAMEO_INTL_2015_LIFE_STAGE'] = life_stage_list\n",
    "    \n",
    "    subset1.drop(columns=['LP_LEBENSPHASE_FEIN', 'LP_LEBENSPHASE_GROB'], inplace=True)\n",
    "    subset1.drop(columns=['PRAEGENDE_JUGENDJAHRE', 'CAMEO_INTL_2015'], inplace=True)\n",
    "    # -------------------------------------------------------------------------------\n",
    "    subset1 = subset1.dropna(axis=0)\n",
    "    \n",
    "    # Return the cleaned dataframe.\n",
    "    return subset1, subset2"
   ]
  },
  {
   "cell_type": "markdown",
   "metadata": {},
   "source": [
    "## Step 2: Feature Transformation\n",
    "\n",
    "### Step 2.1: Apply Feature Scaling\n",
    "\n",
    "Before we apply dimensionality reduction techniques to the data, we need to perform feature scaling so that the principal component vectors are not influenced by the natural differences in scale for features. Starting from this part of the project, you'll want to keep an eye on the [API reference page for sklearn](http://scikit-learn.org/stable/modules/classes.html) to help you navigate to all of the classes and functions that you'll need. In this substep, you'll need to check the following:\n",
    "\n",
    "- sklearn requires that data not have missing values in order for its estimators to work properly. So, before applying the scaler to your data, make sure that you've cleaned the DataFrame of the remaining missing values. This can be as simple as just removing all data points with missing data, or applying an [Imputer](https://scikit-learn.org/0.16/modules/generated/sklearn.preprocessing.Imputer.html) to replace all missing values. You might also try a more complicated procedure where you temporarily remove missing values in order to compute the scaling parameters before re-introducing those missing values and applying imputation. Think about how much missing data you have and what possible effects each approach might have on your analysis, and justify your decision in the discussion section below.\n",
    "- For the actual scaling function, a [StandardScaler](http://scikit-learn.org/stable/modules/generated/sklearn.preprocessing.StandardScaler.html) instance is suggested, scaling each feature to mean 0 and standard deviation 1.\n",
    "- For these classes, you can make use of the `.fit_transform()` method to both fit a procedure to the data as well as apply the transformation to the data at the same time. Don't forget to keep the fit sklearn objects handy, since you'll be applying them to the customer demographics data towards the end of the project."
   ]
  },
  {
   "cell_type": "code",
   "execution_count": 37,
   "metadata": {},
   "outputs": [
    {
     "name": "stdout",
     "output_type": "stream",
     "text": [
      "Percentage of rows contain missing values: 10.6 %\n"
     ]
    }
   ],
   "source": [
    "# If you've not yet cleaned the dataset of all NaN values, then investigate and\n",
    "# do that now.\n",
    "print('Percentage of rows contain missing values:', \n",
    "      round((subset1.shape[0] - subset1.dropna(axis=0).shape[0])/(subset1.shape[0])*100.00, 2), '%')"
   ]
  },
  {
   "cell_type": "code",
   "execution_count": 38,
   "metadata": {},
   "outputs": [],
   "source": [
    "# Create a subset data with no missing values\n",
    "subset1_clean = subset1.dropna(axis=0)"
   ]
  },
  {
   "cell_type": "code",
   "execution_count": 39,
   "metadata": {},
   "outputs": [],
   "source": [
    "# Apply feature scaling to the general population demographics data.\n",
    "from sklearn.preprocessing import StandardScaler\n",
    "\n",
    "scaler = StandardScaler()\n",
    "subset1_clean_scaled = scaler.fit_transform(subset1_clean)"
   ]
  },
  {
   "cell_type": "markdown",
   "metadata": {},
   "source": [
    "### Discussion 2.1: Apply Feature Scaling\n",
    "\n",
    "Since the number of rows containing missing values is almost 10.6% of all rows, and we don't have separate groups in the dataset to do proper imputation, I've decided to delete the rows that contain NaN values and implement a standard scaler on the cleaned subset of the dataset."
   ]
  },
  {
   "cell_type": "markdown",
   "metadata": {},
   "source": [
    "### Step 2.2: Perform Dimensionality Reduction\n",
    "\n",
    "On your scaled data, you are now ready to apply dimensionality reduction techniques.\n",
    "\n",
    "- Use sklearn's [PCA](http://scikit-learn.org/stable/modules/generated/sklearn.decomposition.PCA.html) class to apply principal component analysis on the data, thus finding the vectors of maximal variance in the data. To start, you should not set any parameters (so all components are computed) or set a number of components that is at least half the number of features (so there's enough features to see the general trend in variability).\n",
    "- Check out the ratio of variance explained by each principal component as well as the cumulative variance explained. Try plotting the cumulative or sequential values using matplotlib's [`plot()`](https://matplotlib.org/api/_as_gen/matplotlib.pyplot.plot.html) function. Based on what you find, select a value for the number of transformed features you'll retain for the clustering part of the project.\n",
    "- Once you've made a choice for the number of components to keep, make sure you re-fit a PCA instance to perform the decided-on transformation."
   ]
  },
  {
   "cell_type": "code",
   "execution_count": 40,
   "metadata": {},
   "outputs": [],
   "source": [
    "# Apply PCA to the data.\n",
    "from sklearn.decomposition import PCA\n",
    "\n",
    "pca = PCA()\n",
    "X_pca = pca.fit_transform(subset1_clean_scaled)"
   ]
  },
  {
   "cell_type": "code",
   "execution_count": 41,
   "metadata": {},
   "outputs": [
    {
     "data": {
      "text/plain": [
       "Text(0.5,1,'Explained Variance Per Principal Component')"
      ]
     },
     "execution_count": 41,
     "metadata": {},
     "output_type": "execute_result"
    },
    {
     "data": {
      "image/png": "[encoded data removed]",
      "text/plain": [
       "<matplotlib.figure.Figure at 0x7f13adffd6a0>"
      ]
     },
     "metadata": {
      "needs_background": "light"
     },
     "output_type": "display_data"
    }
   ],
   "source": [
    "# Investigate the variance accounted for by each principal component.\n",
    "\n",
    "num_components = len(pca.explained_variance_ratio_)\n",
    "ind = np.arange(1, num_components+1)\n",
    "var_ratio = pca.explained_variance_ratio_\n",
    "cum_var_ratio = np.cumsum(var_ratio)\n",
    "\n",
    "fig, ax = plt.subplots(figsize=(18, 8))\n",
    "ax.bar(ind, var_ratio)\n",
    "ax.plot(ind, cum_var_ratio)\n",
    "\n",
    "ax.xaxis.set_tick_params(width=0, length=10, labelsize=12)\n",
    "ax.set_xticks(np.arange(1, num_components+1, 2))\n",
    "ax.yaxis.set_tick_params(width=2, length=12, labelsize=12)\n",
    "ax.set_yticks(np.linspace(0, 1, num=11))\n",
    "\n",
    "plt.grid()\n",
    "\n",
    "ax.set_xlabel(\"Principal Component\", fontsize=17)\n",
    "ax.set_ylabel(\"Variance Explained (%)\", fontsize=17)\n",
    "plt.title('Explained Variance Per Principal Component', fontsize=17)"
   ]
  },
  {
   "cell_type": "code",
   "execution_count": 42,
   "metadata": {},
   "outputs": [],
   "source": [
    "# Re-apply PCA to the data while selecting for number of components to retain.\n",
    "\n",
    "pca = PCA(n_components=25)\n",
    "X_pca = pca.fit_transform(subset1_clean_scaled)"
   ]
  },
  {
   "cell_type": "markdown",
   "metadata": {},
   "source": [
    "### Discussion 2.2: Perform Dimensionality Reduction\n",
    "\n",
    "I have chosen 25 principal components for furthur analysis. All 25 components together can explain more than 80% of observed variance in the dataset. Also, going beyond the 25 components results in slight increase in explained variance, so I keep first 25 components."
   ]
  },
  {
   "cell_type": "markdown",
   "metadata": {},
   "source": [
    "### Step 2.3: Interpret Principal Components\n",
    "\n",
    "Now that we have our transformed principal components, it's a nice idea to check out the weight of each variable on the first few components to see if they can be interpreted in some fashion.\n",
    "\n",
    "As a reminder, each principal component is a unit vector that points in the direction of highest variance (after accounting for the variance captured by earlier principal components). The further a weight is from zero, the more the principal component is in the direction of the corresponding feature. If two features have large weights of the same sign (both positive or both negative), then increases in one tend expect to be associated with increases in the other. To contrast, features with different signs can be expected to show a negative correlation: increases in one variable should result in a decrease in the other.\n",
    "\n",
    "- To investigate the features, you should map each weight to their corresponding feature name, then sort the features according to weight. The most interesting features for each principal component, then, will be those at the beginning and end of the sorted list. Use the data dictionary document to help you understand these most prominent features, their relationships, and what a positive or negative value on the principal component might indicate.\n",
    "- You should investigate and interpret feature associations from the first three principal components in this substep. To help facilitate this, you should write a function that you can call at any time to print the sorted list of feature weights, for the *i*-th principal component. This might come in handy in the next step of the project, when you interpret the tendencies of the discovered clusters."
   ]
  },
  {
   "cell_type": "code",
   "execution_count": 43,
   "metadata": {},
   "outputs": [],
   "source": [
    "# Map weights for the first principal component to corresponding feature names\n",
    "# and then print the linked values, sorted by weight.\n",
    "# HINT: Try defining a function here or in a new cell that you can reuse in the\n",
    "# other cells.\n",
    "\n",
    "def get_weights_sorted(component):\n",
    "    # -----------------------------------------------------------\n",
    "    # Function return a dictionary of features and their weights\n",
    "    # sorted by weights for given component\n",
    "    \n",
    "    # Argument: index of intended component\n",
    "    \n",
    "    # return : dictionary contains feature and corresponding weights\n",
    "    # -----------------------------------------------------------\n",
    "    \n",
    "    weights = pca.components_[component]\n",
    "    features = list(subset1_clean.columns)\n",
    "    features_sorted = [feature for _, feature in sorted(zip(weights, features), reverse=True)]\n",
    "    weights_sorted = sorted(weights, reverse=True)\n",
    "    \n",
    "    feat_dic = res = dict(zip(features_sorted, weights_sorted))\n",
    "\n",
    "    return feat_dic"
   ]
  },
  {
   "cell_type": "code",
   "execution_count": 44,
   "metadata": {
    "scrolled": true
   },
   "outputs": [
    {
     "data": {
      "text/plain": [
       "{'PLZ8_ANTG3': 0.19719047029567655,\n",
       " 'CAMEO_DEUG_2015': 0.19296388599547043,\n",
       " 'PLZ8_ANTG4': 0.19192663825400957,\n",
       " 'CAMEO_INTL_2015_WEALTH': 0.18961310358479469,\n",
       " 'PLZ8_BAUMAX': 0.18866882634751198,\n",
       " 'HH_EINKOMMEN_SCORE': 0.18865867222581925,\n",
       " 'ORTSGR_KLS9': 0.16658303880710973,\n",
       " 'EWDICHTE': 0.16311856600412167,\n",
       " 'FINANZ_HAUSBAUER': 0.14982986919130825,\n",
       " 'KBA05_ANTG4': 0.13636596668863918,\n",
       " 'ZABEOTYP': 0.13003766975346193,\n",
       " 'PLZ8_ANTG2': 0.12972430279502442,\n",
       " 'ARBEIT': 0.12611602839969741,\n",
       " 'KBA05_ANTG3': 0.1244731871978699,\n",
       " 'ANZ_HAUSHALTE_AKTIV': 0.12203163859457621,\n",
       " 'FINANZ_SPARER': 0.1218224956837296,\n",
       " 'RELAT_AB': 0.11307676618673831,\n",
       " 'SEMIO_PFLICHT': 0.090462455964607127,\n",
       " 'SEMIO_REL': 0.085184428196963771,\n",
       " 'PRAEGENDE_JUGENDJAHRE_DECADE': 0.083922126173117409,\n",
       " 'SEMIO_TRADV': 0.079204330925680397,\n",
       " 'SEMIO_RAT': 0.077098027867089358,\n",
       " 'SEMIO_MAT': 0.068386341787832886,\n",
       " 'REGIOTYP': 0.067163828583645724,\n",
       " 'GEBAEUDETYP': 0.064967574746005188,\n",
       " 'SEMIO_FAM': 0.062390788182846962,\n",
       " 'GFK_URLAUBERTYP': 0.061261477598463482,\n",
       " 'OST_WEST_KZ_O': 0.060431537591441056,\n",
       " 'FINANZ_ANLEGER': 0.057863375903656845,\n",
       " 'FINANZ_UNAUFFAELLIGER': 0.057373129143400231,\n",
       " 'SEMIO_KULT': 0.055364268829128725,\n",
       " 'NATIONALITAET_KZ': 0.055106328501014157,\n",
       " 'KKK': 0.043638057195698847,\n",
       " 'W_KEIT_KIND_HH': 0.040616182702925538,\n",
       " 'CJT_GESAMTTYP': 0.037738269173976505,\n",
       " 'SEMIO_KAEM': 0.035472358728593362,\n",
       " 'SEMIO_SOZ': 0.032749114413703984,\n",
       " 'PLZ8_HHZ': 0.032389159768075611,\n",
       " 'HEALTH_TYP': 0.028844943987557929,\n",
       " 'ANZ_HH_TITEL': 0.028568352479694668,\n",
       " 'VERS_TYP': 0.019095748459683235,\n",
       " 'SEMIO_DOM': 0.019081984599437652,\n",
       " 'SEMIO_KRIT': 0.010624452390606203,\n",
       " 'KBA05_ANTG2': 0.00848978410368075,\n",
       " 'ANREDE_KZ': 0.0078157510778556517,\n",
       " 'SHOPPER_TYP': -0.0020482894210639038,\n",
       " 'SOHO_KZ': -0.0023306058618190483,\n",
       " 'ANZ_TITEL': -0.0057457522069508027,\n",
       " 'RETOURTYP_BK_S': -0.016285598341820928,\n",
       " 'MIN_GEBAEUDEJAHR': -0.031749256588403899,\n",
       " 'SEMIO_VERT': -0.031926375586353091,\n",
       " 'ONLINE_AFFINITAET': -0.045599478837570026,\n",
       " 'FINANZTYP': -0.050126388583821679,\n",
       " 'WOHNDAUER_2008': -0.058147323006714852,\n",
       " 'OST_WEST_KZ_W': -0.060431537591441035,\n",
       " 'WOHNLAGE': -0.063786384493990739,\n",
       " 'SEMIO_ERL': -0.064716308361309219,\n",
       " 'KBA13_ANZAHL_PKW': -0.072154641901678834,\n",
       " 'SEMIO_LUST': -0.0735134590591036,\n",
       " 'LP_FAMILIE_FEIN': -0.080487859698588959,\n",
       " 'LP_FAMILIE_GROB': -0.082081291733921438,\n",
       " 'ANZ_PERSONEN': -0.085974576504547817,\n",
       " 'FINANZ_VORSORGER': -0.095523607198437957,\n",
       " 'ALTERSKATEGORIE_GROB': -0.10019897695154978,\n",
       " 'GEBAEUDETYP_RASTER': -0.10147595008264085,\n",
       " 'BALLRAUM': -0.10291460415707245,\n",
       " 'PRAEGENDE_JUGENDJAHRE_MOVEMENT': -0.11471988811980698,\n",
       " 'GREEN_AVANTGARDE': -0.11471988811980698,\n",
       " 'CAMEO_INTL_2015_LIFE_STAGE': -0.11559371615190327,\n",
       " 'INNENSTADT': -0.13798733202674973,\n",
       " 'KONSUMNAEHE': -0.1424431704163662,\n",
       " 'PLZ8_GBZ': -0.15101720257521598,\n",
       " 'KBA05_GBZ': -0.19472870792755861,\n",
       " 'FINANZ_MINIMALIST': -0.19781449455948227,\n",
       " 'PLZ8_ANTG1': -0.19975433139415835,\n",
       " 'KBA05_ANTG1': -0.20569391254764935,\n",
       " 'LP_STATUS_GROB': -0.21345578677905433,\n",
       " 'LP_STATUS_FEIN': -0.21425641888492403,\n",
       " 'MOBI_REGIO': -0.21835251374364664}"
      ]
     },
     "execution_count": 44,
     "metadata": {},
     "output_type": "execute_result"
    }
   ],
   "source": [
    "get_weights_sorted(0)"
   ]
  },
  {
   "cell_type": "code",
   "execution_count": 45,
   "metadata": {
    "scrolled": true
   },
   "outputs": [
    {
     "data": {
      "text/plain": [
       "{'ALTERSKATEGORIE_GROB': 0.25942460847640381,\n",
       " 'FINANZ_VORSORGER': 0.22563513851952022,\n",
       " 'SEMIO_ERL': 0.22547939065050426,\n",
       " 'SEMIO_LUST': 0.17934452602678597,\n",
       " 'RETOURTYP_BK_S': 0.16349558277099049,\n",
       " 'W_KEIT_KIND_HH': 0.11998462640283002,\n",
       " 'FINANZTYP': 0.1128849597328536,\n",
       " 'SEMIO_KRIT': 0.11070910907299944,\n",
       " 'SHOPPER_TYP': 0.10286604658094584,\n",
       " 'FINANZ_HAUSBAUER': 0.098880451048577345,\n",
       " 'SEMIO_KAEM': 0.094610832826338601,\n",
       " 'FINANZ_MINIMALIST': 0.080209590953158175,\n",
       " 'PLZ8_ANTG3': 0.078015209427492668,\n",
       " 'ANREDE_KZ': 0.075073674699267734,\n",
       " 'PLZ8_ANTG4': 0.074968773833310492,\n",
       " 'ORTSGR_KLS9': 0.074231442779644288,\n",
       " 'EWDICHTE': 0.073842497075942121,\n",
       " 'PLZ8_BAUMAX': 0.070969483491751043,\n",
       " 'WOHNDAUER_2008': 0.059304218160763436,\n",
       " 'CAMEO_INTL_2015_WEALTH': 0.058920876183301524,\n",
       " 'ARBEIT': 0.058759087602758019,\n",
       " 'SEMIO_DOM': 0.05636669376234156,\n",
       " 'KBA05_ANTG4': 0.055033103302683684,\n",
       " 'CAMEO_DEUG_2015': 0.054273582889268,\n",
       " 'RELAT_AB': 0.05238496383504445,\n",
       " 'PLZ8_ANTG2': 0.049937265755009189,\n",
       " 'ANZ_HAUSHALTE_AKTIV': 0.04883088631835094,\n",
       " 'KBA05_ANTG3': 0.037252190748366443,\n",
       " 'HH_EINKOMMEN_SCORE': 0.034235890558652199,\n",
       " 'OST_WEST_KZ_O': 0.033684755463416094,\n",
       " 'ANZ_HH_TITEL': 0.026224935894918599,\n",
       " 'VERS_TYP': 0.023092621818400785,\n",
       " 'REGIOTYP': 0.015868807350260205,\n",
       " 'GEBAEUDETYP': 0.009945017805855428,\n",
       " 'PLZ8_HHZ': 0.0075502175416631359,\n",
       " 'ANZ_TITEL': 0.0071650552893843386,\n",
       " 'CAMEO_INTL_2015_LIFE_STAGE': 0.0036610862285429173,\n",
       " 'KKK': 0.00091657152206330332,\n",
       " 'SOHO_KZ': -0.0021380370336990268,\n",
       " 'KBA05_ANTG2': -0.0094353738207434371,\n",
       " 'PRAEGENDE_JUGENDJAHRE_MOVEMENT': -0.011428340373207033,\n",
       " 'GREEN_AVANTGARDE': -0.011428340373207033,\n",
       " 'LP_STATUS_GROB': -0.014868669560768339,\n",
       " 'MIN_GEBAEUDEJAHR': -0.022197261666549499,\n",
       " 'ZABEOTYP': -0.023947800097800644,\n",
       " 'KBA13_ANZAHL_PKW': -0.032595225077466095,\n",
       " 'GEBAEUDETYP_RASTER': -0.033329084656162987,\n",
       " 'LP_STATUS_FEIN': -0.033421422883857944,\n",
       " 'OST_WEST_KZ_W': -0.033684755463416108,\n",
       " 'GFK_URLAUBERTYP': -0.039856257593446125,\n",
       " 'WOHNLAGE': -0.045041692954444497,\n",
       " 'BALLRAUM': -0.048071236631391567,\n",
       " 'HEALTH_TYP': -0.051943117048601516,\n",
       " 'KONSUMNAEHE': -0.053286457726080226,\n",
       " 'SEMIO_VERT': -0.053604255145936398,\n",
       " 'INNENSTADT': -0.061084746402983732,\n",
       " 'PLZ8_GBZ': -0.063347599298162832,\n",
       " 'KBA05_ANTG1': -0.065284817293420214,\n",
       " 'ANZ_PERSONEN': -0.066180398357697956,\n",
       " 'NATIONALITAET_KZ': -0.070164587806022846,\n",
       " 'KBA05_GBZ': -0.070984723877611872,\n",
       " 'MOBI_REGIO': -0.071258366201197534,\n",
       " 'LP_FAMILIE_FEIN': -0.073762279422052185,\n",
       " 'LP_FAMILIE_GROB': -0.074409780384763854,\n",
       " 'PLZ8_ANTG1': -0.07758941853706941,\n",
       " 'SEMIO_SOZ': -0.09457883476427395,\n",
       " 'CJT_GESAMTTYP': -0.12164038943123824,\n",
       " 'SEMIO_MAT': -0.15097364094603977,\n",
       " 'ONLINE_AFFINITAET': -0.15977681894671389,\n",
       " 'SEMIO_FAM': -0.17101749021294166,\n",
       " 'SEMIO_RAT': -0.17608984725298951,\n",
       " 'FINANZ_ANLEGER': -0.20229337440559061,\n",
       " 'SEMIO_KULT': -0.20904789346752911,\n",
       " 'FINANZ_UNAUFFAELLIGER': -0.2269982698227074,\n",
       " 'SEMIO_TRADV': -0.22879978441929255,\n",
       " 'FINANZ_SPARER': -0.23691352318152206,\n",
       " 'SEMIO_PFLICHT': -0.23770295152308346,\n",
       " 'PRAEGENDE_JUGENDJAHRE_DECADE': -0.24916472186407557,\n",
       " 'SEMIO_REL': -0.2580757740909766}"
      ]
     },
     "execution_count": 45,
     "metadata": {},
     "output_type": "execute_result"
    }
   ],
   "source": [
    "# Map weights for the second principal component to corresponding feature names\n",
    "# and then print the linked values, sorted by weight.\n",
    "\n",
    "get_weights_sorted(1)"
   ]
  },
  {
   "cell_type": "code",
   "execution_count": 46,
   "metadata": {
    "scrolled": true
   },
   "outputs": [
    {
     "data": {
      "text/plain": [
       "{'SEMIO_VERT': 0.34010660312625329,\n",
       " 'SEMIO_SOZ': 0.26060135607748397,\n",
       " 'SEMIO_FAM': 0.25493078540421815,\n",
       " 'SEMIO_KULT': 0.23755024101508765,\n",
       " 'FINANZ_MINIMALIST': 0.15160473734912674,\n",
       " 'FINANZTYP': 0.11204572178893378,\n",
       " 'RETOURTYP_BK_S': 0.10607235695530856,\n",
       " 'SEMIO_REL': 0.090348750905577591,\n",
       " 'W_KEIT_KIND_HH': 0.088989866230052214,\n",
       " 'FINANZ_VORSORGER': 0.081543542974205352,\n",
       " 'ALTERSKATEGORIE_GROB': 0.06475855996473924,\n",
       " 'SEMIO_LUST': 0.058969718184739395,\n",
       " 'SEMIO_MAT': 0.057165542080388307,\n",
       " 'PRAEGENDE_JUGENDJAHRE_MOVEMENT': 0.051658656314037134,\n",
       " 'GREEN_AVANTGARDE': 0.051658656314037134,\n",
       " 'PLZ8_BAUMAX': 0.051385915577493932,\n",
       " 'ORTSGR_KLS9': 0.050115518549750347,\n",
       " 'PLZ8_ANTG4': 0.04857636048255267,\n",
       " 'EWDICHTE': 0.048539057464457115,\n",
       " 'PLZ8_ANTG3': 0.046894951547525682,\n",
       " 'LP_STATUS_GROB': 0.038492645148101245,\n",
       " 'ARBEIT': 0.036938182281800035,\n",
       " 'RELAT_AB': 0.031007811072131394,\n",
       " 'WOHNDAUER_2008': 0.030028949552260348,\n",
       " 'PLZ8_ANTG2': 0.028724093273696877,\n",
       " 'KBA05_ANTG4': 0.027805505806501346,\n",
       " 'CAMEO_DEUG_2015': 0.026080393819062644,\n",
       " 'CAMEO_INTL_2015_WEALTH': 0.02574703694059758,\n",
       " 'ANZ_HAUSHALTE_AKTIV': 0.025215312863166098,\n",
       " 'LP_STATUS_FEIN': 0.023772300088817321,\n",
       " 'VERS_TYP': 0.022100603880756804,\n",
       " 'OST_WEST_KZ_O': 0.021719808101579755,\n",
       " 'ANZ_HH_TITEL': 0.013503723030142162,\n",
       " 'ANZ_TITEL': 0.010008536111689623,\n",
       " 'GEBAEUDETYP': 0.0076002826840597427,\n",
       " 'KBA05_ANTG3': 0.0047072667719306851,\n",
       " 'PLZ8_HHZ': 0.004675640869333305,\n",
       " 'SOHO_KZ': 0.00060004008473086982,\n",
       " 'HEALTH_TYP': -0.0057284050737513312,\n",
       " 'REGIOTYP': -0.006852735741905514,\n",
       " 'MIN_GEBAEUDEJAHR': -0.0071838682429095644,\n",
       " 'ANZ_PERSONEN': -0.0074847544966069263,\n",
       " 'CAMEO_INTL_2015_LIFE_STAGE': -0.012000778670734794,\n",
       " 'KBA05_ANTG2': -0.013194932494283256,\n",
       " 'KKK': -0.017180811553539326,\n",
       " 'LP_FAMILIE_FEIN': -0.020236035427152872,\n",
       " 'KBA05_ANTG1': -0.021249109190136114,\n",
       " 'LP_FAMILIE_GROB': -0.021611932825088484,\n",
       " 'OST_WEST_KZ_W': -0.021719808101579755,\n",
       " 'NATIONALITAET_KZ': -0.022342215703114444,\n",
       " 'GFK_URLAUBERTYP': -0.023649248224336207,\n",
       " 'KBA05_GBZ': -0.02410772380200648,\n",
       " 'WOHNLAGE': -0.02423825883489087,\n",
       " 'KBA13_ANZAHL_PKW': -0.025290991849879142,\n",
       " 'CJT_GESAMTTYP': -0.02784867376688242,\n",
       " 'HH_EINKOMMEN_SCORE': -0.027942872325572805,\n",
       " 'MOBI_REGIO': -0.027986148409321836,\n",
       " 'GEBAEUDETYP_RASTER': -0.032338248862543779,\n",
       " 'BALLRAUM': -0.036455300499351216,\n",
       " 'KONSUMNAEHE': -0.03926005572610914,\n",
       " 'PLZ8_GBZ': -0.041122963510315184,\n",
       " 'INNENSTADT': -0.045622849892039692,\n",
       " 'ONLINE_AFFINITAET': -0.048289862643571518,\n",
       " 'PLZ8_ANTG1': -0.048459025267202173,\n",
       " 'FINANZ_HAUSBAUER': -0.053125864127059969,\n",
       " 'SEMIO_PFLICHT': -0.061238685934112434,\n",
       " 'ZABEOTYP': -0.064189483930958149,\n",
       " 'SEMIO_TRADV': -0.070495061893380451,\n",
       " 'FINANZ_UNAUFFAELLIGER': -0.084730854939177397,\n",
       " 'FINANZ_SPARER': -0.087185259670158263,\n",
       " 'PRAEGENDE_JUGENDJAHRE_DECADE': -0.092161205091823684,\n",
       " 'SHOPPER_TYP': -0.13300177056131821,\n",
       " 'FINANZ_ANLEGER': -0.17264547716026318,\n",
       " 'SEMIO_ERL': -0.17987395008561033,\n",
       " 'SEMIO_RAT': -0.20235026707380549,\n",
       " 'SEMIO_KRIT': -0.26695397311322494,\n",
       " 'SEMIO_DOM': -0.3060254831916045,\n",
       " 'SEMIO_KAEM': -0.33289544266067361,\n",
       " 'ANREDE_KZ': -0.36233962935436875}"
      ]
     },
     "execution_count": 46,
     "metadata": {},
     "output_type": "execute_result"
    }
   ],
   "source": [
    "# Map weights for the third principal component to corresponding feature names\n",
    "# and then print the linked values, sorted by weight.\n",
    "\n",
    "get_weights_sorted(2)"
   ]
  },
  {
   "cell_type": "markdown",
   "metadata": {},
   "source": [
    "### Discussion 2.3: Interpret Principal Components\n",
    "\n",
    "We can see that the features with high weights in the first component mostly represent the type of buildings(how many +6 family houses within the plz8 region) and the wealth. Since they have a positive correlation, by looking at the definition of features, we can say rich and wealthy people are more likely to live in regions with houses for families with low members.\n",
    "\n",
    "The second principal component mainly represents age along with some personality and financial typology. By looking at the highest and lowest weights, we can say generally younger people tend to have a lower affinity for religion and be less prepared financially wise. On the other hand, the older generation is more likely traditional-minded and money-saver.\n",
    "\n",
    "Moreover, the third principal component encapsulates information regarding gender and some personality typology. On the positive side of this component, we would probably have males with more combative, dominant, critical-minded, and rational-minded attitudes; and on the negative side, we would probably have females with more social-minded, family-minded, and cultural-minded attitudes."
   ]
  },
  {
   "cell_type": "markdown",
   "metadata": {},
   "source": [
    "## Step 3: Clustering\n",
    "\n",
    "### Step 3.1: Apply Clustering to General Population\n",
    "\n",
    "You've assessed and cleaned the demographics data, then scaled and transformed them. Now, it's time to see how the data clusters in the principal components space. In this substep, you will apply k-means clustering to the dataset and use the average within-cluster distances from each point to their assigned cluster's centroid to decide on a number of clusters to keep.\n",
    "\n",
    "- Use sklearn's [KMeans](http://scikit-learn.org/stable/modules/generated/sklearn.cluster.KMeans.html#sklearn.cluster.KMeans) class to perform k-means clustering on the PCA-transformed data.\n",
    "- Then, compute the average difference from each point to its assigned cluster's center. **Hint**: The KMeans object's `.score()` method might be useful here, but note that in sklearn, scores tend to be defined so that larger is better. Try applying it to a small, toy dataset, or use an internet search to help your understanding.\n",
    "- Perform the above two steps for a number of different cluster counts. You can then see how the average distance decreases with an increasing number of clusters. However, each additional cluster provides a smaller net benefit. Use this fact to select a final number of clusters in which to group the data. **Warning**: because of the large size of the dataset, it can take a long time for the algorithm to resolve. The more clusters to fit, the longer the algorithm will take. You should test for cluster counts through at least 10 clusters to get the full picture, but you shouldn't need to test for a number of clusters above about 30.\n",
    "- Once you've selected a final number of clusters to use, re-fit a KMeans instance to perform the clustering operation. Make sure that you also obtain the cluster assignments for the general demographics data, since you'll be using them in the final Step 3.3."
   ]
  },
  {
   "cell_type": "code",
   "execution_count": 47,
   "metadata": {},
   "outputs": [],
   "source": [
    "# Over a number of different cluster counts...\n",
    "from sklearn.cluster import KMeans\n",
    "num_clusters = np.arange(1, 16, 1)\n",
    "\n",
    "def get_within_cluster_dis(num_cluster):\n",
    "    # run k-means clustering on the data and...\n",
    "    kmeans = KMeans(n_clusters=num_cluster)\n",
    "    model = kmeans.fit(X_pca)\n",
    "    \n",
    "    # compute the average within-cluster distances.\n",
    "    score = np.abs(model.score(X_pca))\n",
    "    \n",
    "    return score"
   ]
  },
  {
   "cell_type": "code",
   "execution_count": 48,
   "metadata": {},
   "outputs": [],
   "source": [
    "# Investigate the change in within-cluster distance across number of clusters.\n",
    "# HINT: Use matplotlib's plot function to visualize this relationship.\n",
    "scores = []\n",
    "\n",
    "for num_cluster in num_clusters:\n",
    "    scores.append(get_within_cluster_dis(num_cluster))"
   ]
  },
  {
   "cell_type": "code",
   "execution_count": 49,
   "metadata": {},
   "outputs": [
    {
     "data": {
      "image/png": "[encoded data removed]",
      "text/plain": [
       "<matplotlib.figure.Figure at 0x7f13ae037320>"
      ]
     },
     "metadata": {
      "needs_background": "light"
     },
     "output_type": "display_data"
    }
   ],
   "source": [
    "plt.plot(num_clusters, scores, linestyle='--', marker='o')\n",
    "plt.xlabel('K')\n",
    "plt.xticks(range(1,15))\n",
    "plt.ylabel('Average Distance From Centroid')\n",
    "plt.title('Scree Plot')\n",
    "plt.grid(color = 'green', linestyle = '--', linewidth = 0.5)\n",
    "plt.show()"
   ]
  },
  {
   "cell_type": "code",
   "execution_count": 72,
   "metadata": {},
   "outputs": [],
   "source": [
    "# Re-fit the k-means model with the selected number of clusters and obtain\n",
    "# cluster predictions for the general population demographics data.\n",
    "\n",
    "kmeans = KMeans(n_clusters=4, random_state=42)\n",
    "model = kmeans.fit(X_pca)\n",
    "pred_labels_general = model.predict(X_pca)"
   ]
  },
  {
   "cell_type": "markdown",
   "metadata": {},
   "source": [
    "### Discussion 3.1: Apply Clustering to General Population\n",
    "\n",
    "I have chosen 4 clusters to segment the population since there is no considerable decrease in average distance when we have more than 4 clusters."
   ]
  },
  {
   "cell_type": "markdown",
   "metadata": {},
   "source": [
    "### Step 3.2: Apply All Steps to the Customer Data\n",
    "\n",
    "Now that you have clusters and cluster centers for the general population, it's time to see how the customer data maps on to those clusters. Take care to not confuse this for re-fitting all of the models to the customer data. Instead, you're going to use the fits from the general population to clean, transform, and cluster the customer data. In the last step of the project, you will interpret how the general population fits apply to the customer data.\n",
    "\n",
    "- Don't forget when loading in the customers data, that it is semicolon (`;`) delimited.\n",
    "- Apply the same feature wrangling, selection, and engineering steps to the customer demographics using the `clean_data()` function you created earlier. (You can assume that the customer demographics data has similar meaning behind missing data patterns as the general demographics data.)\n",
    "- Use the sklearn objects from the general demographics data, and apply their transformations to the customers data. That is, you should not be using a `.fit()` or `.fit_transform()` method to re-fit the old objects, nor should you be creating new sklearn objects! Carry the data through the feature scaling, PCA, and clustering steps, obtaining cluster assignments for all of the data in the customer demographics data."
   ]
  },
  {
   "cell_type": "code",
   "execution_count": 51,
   "metadata": {},
   "outputs": [],
   "source": [
    "# Load in the customer demographics data.\n",
    "customers = pd.read_csv('Udacity_CUSTOMERS_Subset.csv', sep=';')"
   ]
  },
  {
   "cell_type": "code",
   "execution_count": 52,
   "metadata": {},
   "outputs": [],
   "source": [
    "# Apply preprocessing, feature transformation, and clustering from the general\n",
    "# demographics onto the customer data, obtaining cluster predictions for the\n",
    "# customer demographics data.\n",
    "\n",
    "subset1_customers_clean, subset2_customers = clean_data(customers)\n",
    "#customers_cleaned = customers_cleaned.dropna(axis=0)\n",
    "\n",
    "#scaler = StandardScaler()\n",
    "subset1_customers_clean_scaled = scaler.transform(subset1_customers_clean)\n",
    "X_pca_customers = pca.transform(subset1_customers_clean_scaled)\n",
    "\n",
    "pred_labels_customers = model.predict(X_pca_customers)"
   ]
  },
  {
   "cell_type": "markdown",
   "metadata": {},
   "source": [
    "### Step 3.3: Compare Customer Data to Demographics Data\n",
    "\n",
    "At this point, you have clustered data based on demographics of the general population of Germany, and seen how the customer data for a mail-order sales company maps onto those demographic clusters. In this final substep, you will compare the two cluster distributions to see where the strongest customer base for the company is.\n",
    "\n",
    "Consider the proportion of persons in each cluster for the general population, and the proportions for the customers. If we think the company's customer base to be universal, then the cluster assignment proportions should be fairly similar between the two. If there are only particular segments of the population that are interested in the company's products, then we should see a mismatch from one to the other. If there is a higher proportion of persons in a cluster for the customer data compared to the general population (e.g. 5% of persons are assigned to a cluster for the general population, but 15% of the customer data is closest to that cluster's centroid) then that suggests the people in that cluster to be a target audience for the company. On the other hand, the proportion of the data in a cluster being larger in the general population than the customer data (e.g. only 2% of customers closest to a population centroid that captures 6% of the data) suggests that group of persons to be outside of the target demographics.\n",
    "\n",
    "Take a look at the following points in this step:\n",
    "\n",
    "- Compute the proportion of data points in each cluster for the general population and the customer data. Visualizations will be useful here: both for the individual dataset proportions, but also to visualize the ratios in cluster representation between groups. Seaborn's [`countplot()`](https://seaborn.pydata.org/generated/seaborn.countplot.html) or [`barplot()`](https://seaborn.pydata.org/generated/seaborn.barplot.html) function could be handy.\n",
    "  - Recall the analysis you performed in step 1.1.3 of the project, where you separated out certain data points from the dataset if they had more than a specified threshold of missing values. If you found that this group was qualitatively different from the main bulk of the data, you should treat this as an additional data cluster in this analysis. Make sure that you account for the number of data points in this subset, for both the general population and customer datasets, when making your computations!\n",
    "- Which cluster or clusters are overrepresented in the customer dataset compared to the general population? Select at least one such cluster and infer what kind of people might be represented by that cluster. Use the principal component interpretations from step 2.3 or look at additional components to help you make this inference. Alternatively, you can use the `.inverse_transform()` method of the PCA and StandardScaler objects to transform centroids back to the original data space and interpret the retrieved values directly.\n",
    "- Perform a similar investigation for the underrepresented clusters. Which cluster or clusters are underrepresented in the customer dataset compared to the general population, and what kinds of people are typified by these clusters?"
   ]
  },
  {
   "cell_type": "code",
   "execution_count": 73,
   "metadata": {},
   "outputs": [],
   "source": [
    "# Compare the proportion of data in each cluster for the customer data to the\n",
    "# proportion of data in each cluster for the general population.\n",
    "general_len = len(subset1_clean) + len(subset2)\n",
    "customers_len = len(subset1_customers_clean) + len(subset2_customers)\n",
    "n_clusters = 4\n",
    "proportion_general = {}\n",
    "proportion_customers = {}\n",
    "\n",
    "for i in range(n_clusters):\n",
    "    proportion_general[f'cluster{i+1}'] = len(pred_labels_general[pred_labels_general == i]) / general_len * 100.00\n",
    "    proportion_customers[f'cluster{i+1}'] = len(pred_labels_customers[pred_labels_customers == i]) / customers_len * 100.00\n",
    "    \n",
    "proportion_general['cluster5'] = len(subset2) / general_len * 100.00\n",
    "proportion_customers['cluster5'] = len(subset2_customers) / customers_len * 100.00"
   ]
  },
  {
   "cell_type": "code",
   "execution_count": 74,
   "metadata": {},
   "outputs": [
    {
     "data": {
      "text/plain": [
       "<matplotlib.axes._subplots.AxesSubplot at 0x7f13ae0b1438>"
      ]
     },
     "execution_count": 74,
     "metadata": {},
     "output_type": "execute_result"
    },
    {
     "data": {
      "image/png": "[encoded data removed]",
      "text/plain": [
       "<matplotlib.figure.Figure at 0x7f13af860ef0>"
      ]
     },
     "metadata": {
      "needs_background": "light"
     },
     "output_type": "display_data"
    }
   ],
   "source": [
    "sns.barplot(x=list(proportion_general.keys()), y=list((proportion_general.values())))"
   ]
  },
  {
   "cell_type": "code",
   "execution_count": 75,
   "metadata": {},
   "outputs": [
    {
     "data": {
      "text/plain": [
       "<matplotlib.axes._subplots.AxesSubplot at 0x7f13af88b400>"
      ]
     },
     "execution_count": 75,
     "metadata": {},
     "output_type": "execute_result"
    },
    {
     "data": {
      "image/png": "[encoded data removed]",
      "text/plain": [
       "<matplotlib.figure.Figure at 0x7f13903bdc18>"
      ]
     },
     "metadata": {
      "needs_background": "light"
     },
     "output_type": "display_data"
    }
   ],
   "source": [
    "sns.barplot(x=list(proportion_customers.keys()), y=list(proportion_customers.values()))"
   ]
  },
  {
   "cell_type": "code",
   "execution_count": 76,
   "metadata": {},
   "outputs": [],
   "source": [
    "columns = []\n",
    "for i in range(1,26):\n",
    "    columns.append(f'principal_component_{i}')\n",
    "\n",
    "principalDf_general = pd.DataFrame(data = X_pca, columns = columns)\n",
    "principalDf_customers = pd.DataFrame(data = X_pca_customers, columns = columns)"
   ]
  },
  {
   "cell_type": "code",
   "execution_count": 77,
   "metadata": {},
   "outputs": [
    {
     "data": {
      "text/html": [
       "<div>\n",
       "<style scoped>\n",
       "    .dataframe tbody tr th:only-of-type {\n",
       "        vertical-align: middle;\n",
       "    }\n",
       "\n",
       "    .dataframe tbody tr th {\n",
       "        vertical-align: top;\n",
       "    }\n",
       "\n",
       "    .dataframe thead th {\n",
       "        text-align: right;\n",
       "    }\n",
       "</style>\n",
       "<table border=\"1\" class=\"dataframe\">\n",
       "  <thead>\n",
       "    <tr style=\"text-align: right;\">\n",
       "      <th></th>\n",
       "      <th>principal_component_1</th>\n",
       "      <th>principal_component_2</th>\n",
       "      <th>principal_component_3</th>\n",
       "      <th>principal_component_4</th>\n",
       "      <th>principal_component_5</th>\n",
       "      <th>principal_component_6</th>\n",
       "      <th>principal_component_7</th>\n",
       "      <th>principal_component_8</th>\n",
       "      <th>principal_component_9</th>\n",
       "      <th>principal_component_10</th>\n",
       "      <th>...</th>\n",
       "      <th>principal_component_16</th>\n",
       "      <th>principal_component_17</th>\n",
       "      <th>principal_component_18</th>\n",
       "      <th>principal_component_19</th>\n",
       "      <th>principal_component_20</th>\n",
       "      <th>principal_component_21</th>\n",
       "      <th>principal_component_22</th>\n",
       "      <th>principal_component_23</th>\n",
       "      <th>principal_component_24</th>\n",
       "      <th>principal_component_25</th>\n",
       "    </tr>\n",
       "  </thead>\n",
       "  <tbody>\n",
       "    <tr>\n",
       "      <th>0</th>\n",
       "      <td>-6.644752</td>\n",
       "      <td>0.838475</td>\n",
       "      <td>3.600402</td>\n",
       "      <td>0.866601</td>\n",
       "      <td>-2.807016</td>\n",
       "      <td>0.313562</td>\n",
       "      <td>2.687297</td>\n",
       "      <td>-1.089154</td>\n",
       "      <td>1.470912</td>\n",
       "      <td>-0.224975</td>\n",
       "      <td>...</td>\n",
       "      <td>1.079684</td>\n",
       "      <td>0.064833</td>\n",
       "      <td>-0.172343</td>\n",
       "      <td>-0.032880</td>\n",
       "      <td>0.092608</td>\n",
       "      <td>-0.457027</td>\n",
       "      <td>-1.572663</td>\n",
       "      <td>0.490176</td>\n",
       "      <td>-0.311049</td>\n",
       "      <td>-0.439153</td>\n",
       "    </tr>\n",
       "    <tr>\n",
       "      <th>1</th>\n",
       "      <td>-1.922108</td>\n",
       "      <td>4.849652</td>\n",
       "      <td>-0.588716</td>\n",
       "      <td>2.438041</td>\n",
       "      <td>-1.433836</td>\n",
       "      <td>-1.331405</td>\n",
       "      <td>-1.424057</td>\n",
       "      <td>1.097088</td>\n",
       "      <td>0.468578</td>\n",
       "      <td>-0.508128</td>\n",
       "      <td>...</td>\n",
       "      <td>0.099313</td>\n",
       "      <td>-0.162844</td>\n",
       "      <td>-0.176600</td>\n",
       "      <td>-0.896013</td>\n",
       "      <td>-1.642245</td>\n",
       "      <td>1.242759</td>\n",
       "      <td>1.045021</td>\n",
       "      <td>0.870602</td>\n",
       "      <td>-1.090726</td>\n",
       "      <td>0.496399</td>\n",
       "    </tr>\n",
       "    <tr>\n",
       "      <th>3</th>\n",
       "      <td>-2.691839</td>\n",
       "      <td>1.308406</td>\n",
       "      <td>2.896162</td>\n",
       "      <td>2.387852</td>\n",
       "      <td>-2.455220</td>\n",
       "      <td>0.526240</td>\n",
       "      <td>0.077253</td>\n",
       "      <td>-1.740305</td>\n",
       "      <td>-1.635234</td>\n",
       "      <td>-0.685119</td>\n",
       "      <td>...</td>\n",
       "      <td>0.452769</td>\n",
       "      <td>1.277065</td>\n",
       "      <td>-0.104851</td>\n",
       "      <td>1.336732</td>\n",
       "      <td>-0.828825</td>\n",
       "      <td>0.490064</td>\n",
       "      <td>0.364833</td>\n",
       "      <td>-0.188170</td>\n",
       "      <td>-1.420781</td>\n",
       "      <td>-0.896962</td>\n",
       "    </tr>\n",
       "    <tr>\n",
       "      <th>4</th>\n",
       "      <td>-6.451248</td>\n",
       "      <td>0.413473</td>\n",
       "      <td>2.838633</td>\n",
       "      <td>0.174574</td>\n",
       "      <td>-2.167725</td>\n",
       "      <td>0.245983</td>\n",
       "      <td>1.779891</td>\n",
       "      <td>-0.446738</td>\n",
       "      <td>-0.308070</td>\n",
       "      <td>0.636110</td>\n",
       "      <td>...</td>\n",
       "      <td>-0.193394</td>\n",
       "      <td>1.882534</td>\n",
       "      <td>-0.356034</td>\n",
       "      <td>0.346626</td>\n",
       "      <td>0.134181</td>\n",
       "      <td>-0.105705</td>\n",
       "      <td>-0.181894</td>\n",
       "      <td>-0.615996</td>\n",
       "      <td>0.472635</td>\n",
       "      <td>-0.087363</td>\n",
       "    </tr>\n",
       "    <tr>\n",
       "      <th>5</th>\n",
       "      <td>-5.514166</td>\n",
       "      <td>1.654699</td>\n",
       "      <td>4.077789</td>\n",
       "      <td>2.005253</td>\n",
       "      <td>-1.262216</td>\n",
       "      <td>-1.854461</td>\n",
       "      <td>0.501265</td>\n",
       "      <td>-0.520499</td>\n",
       "      <td>2.569384</td>\n",
       "      <td>-0.078678</td>\n",
       "      <td>...</td>\n",
       "      <td>0.668506</td>\n",
       "      <td>-0.444761</td>\n",
       "      <td>-0.056254</td>\n",
       "      <td>0.392739</td>\n",
       "      <td>-0.027023</td>\n",
       "      <td>0.839702</td>\n",
       "      <td>-0.368706</td>\n",
       "      <td>-1.273958</td>\n",
       "      <td>-0.638493</td>\n",
       "      <td>0.001450</td>\n",
       "    </tr>\n",
       "  </tbody>\n",
       "</table>\n",
       "<p>5 rows × 25 columns</p>\n",
       "</div>"
      ],
      "text/plain": [
       "   principal_component_1  principal_component_2  principal_component_3  \\\n",
       "0              -6.644752               0.838475               3.600402   \n",
       "1              -1.922108               4.849652              -0.588716   \n",
       "3              -2.691839               1.308406               2.896162   \n",
       "4              -6.451248               0.413473               2.838633   \n",
       "5              -5.514166               1.654699               4.077789   \n",
       "\n",
       "   principal_component_4  principal_component_5  principal_component_6  \\\n",
       "0               0.866601              -2.807016               0.313562   \n",
       "1               2.438041              -1.433836              -1.331405   \n",
       "3               2.387852              -2.455220               0.526240   \n",
       "4               0.174574              -2.167725               0.245983   \n",
       "5               2.005253              -1.262216              -1.854461   \n",
       "\n",
       "   principal_component_7  principal_component_8  principal_component_9  \\\n",
       "0               2.687297              -1.089154               1.470912   \n",
       "1              -1.424057               1.097088               0.468578   \n",
       "3               0.077253              -1.740305              -1.635234   \n",
       "4               1.779891              -0.446738              -0.308070   \n",
       "5               0.501265              -0.520499               2.569384   \n",
       "\n",
       "   principal_component_10           ...            principal_component_16  \\\n",
       "0               -0.224975           ...                          1.079684   \n",
       "1               -0.508128           ...                          0.099313   \n",
       "3               -0.685119           ...                          0.452769   \n",
       "4                0.636110           ...                         -0.193394   \n",
       "5               -0.078678           ...                          0.668506   \n",
       "\n",
       "   principal_component_17  principal_component_18  principal_component_19  \\\n",
       "0                0.064833               -0.172343               -0.032880   \n",
       "1               -0.162844               -0.176600               -0.896013   \n",
       "3                1.277065               -0.104851                1.336732   \n",
       "4                1.882534               -0.356034                0.346626   \n",
       "5               -0.444761               -0.056254                0.392739   \n",
       "\n",
       "   principal_component_20  principal_component_21  principal_component_22  \\\n",
       "0                0.092608               -0.457027               -1.572663   \n",
       "1               -1.642245                1.242759                1.045021   \n",
       "3               -0.828825                0.490064                0.364833   \n",
       "4                0.134181               -0.105705               -0.181894   \n",
       "5               -0.027023                0.839702               -0.368706   \n",
       "\n",
       "   principal_component_23  principal_component_24  principal_component_25  \n",
       "0                0.490176               -0.311049               -0.439153  \n",
       "1                0.870602               -1.090726                0.496399  \n",
       "3               -0.188170               -1.420781               -0.896962  \n",
       "4               -0.615996                0.472635               -0.087363  \n",
       "5               -1.273958               -0.638493                0.001450  \n",
       "\n",
       "[5 rows x 25 columns]"
      ]
     },
     "execution_count": 77,
     "metadata": {},
     "output_type": "execute_result"
    }
   ],
   "source": [
    "# What kinds of people are part of a cluster that is overrepresented in the\n",
    "# customer data compared to the general population?\n",
    "\n",
    "cluster3_index_customers = np.where(pred_labels_customers==2)\n",
    "df_cluster3 = principalDf_customers.iloc[cluster3_index_customers]\n",
    "df_cluster3.head()"
   ]
  },
  {
   "cell_type": "code",
   "execution_count": 78,
   "metadata": {},
   "outputs": [
    {
     "data": {
      "image/png": "[encoded data removed]",
      "text/plain": [
       "<matplotlib.figure.Figure at 0x7f13902119b0>"
      ]
     },
     "metadata": {
      "needs_background": "light"
     },
     "output_type": "display_data"
    }
   ],
   "source": [
    "fig, axs = plt.subplots(1, 3, figsize=(15,5))\n",
    "fig.suptitle('Histogram of values in first three principal components for cluster 3')\n",
    "\n",
    "for i in range(3):\n",
    "   \n",
    "    axs[i].hist(df_cluster3[f'principal_component_{i+1}'])\n",
    "    axs[i].set_title(f'Histogram for PC{i+1}')\n",
    "    axs[i].set_xlabel('Value')\n",
    "    axs[i].set_ylabel('Count')\n",
    "    axs[i].grid(color = 'green', linestyle = '--', linewidth = 0.5)\n",
    "\n",
    "plt.subplots_adjust(wspace=0.5)\n",
    "plt.show()"
   ]
  },
  {
   "cell_type": "code",
   "execution_count": 79,
   "metadata": {},
   "outputs": [
    {
     "data": {
      "text/html": [
       "<div>\n",
       "<style scoped>\n",
       "    .dataframe tbody tr th:only-of-type {\n",
       "        vertical-align: middle;\n",
       "    }\n",
       "\n",
       "    .dataframe tbody tr th {\n",
       "        vertical-align: top;\n",
       "    }\n",
       "\n",
       "    .dataframe thead th {\n",
       "        text-align: right;\n",
       "    }\n",
       "</style>\n",
       "<table border=\"1\" class=\"dataframe\">\n",
       "  <thead>\n",
       "    <tr style=\"text-align: right;\">\n",
       "      <th></th>\n",
       "      <th>principal_component_1</th>\n",
       "      <th>principal_component_2</th>\n",
       "      <th>principal_component_3</th>\n",
       "      <th>principal_component_4</th>\n",
       "      <th>principal_component_5</th>\n",
       "      <th>principal_component_6</th>\n",
       "      <th>principal_component_7</th>\n",
       "      <th>principal_component_8</th>\n",
       "      <th>principal_component_9</th>\n",
       "      <th>principal_component_10</th>\n",
       "      <th>...</th>\n",
       "      <th>principal_component_16</th>\n",
       "      <th>principal_component_17</th>\n",
       "      <th>principal_component_18</th>\n",
       "      <th>principal_component_19</th>\n",
       "      <th>principal_component_20</th>\n",
       "      <th>principal_component_21</th>\n",
       "      <th>principal_component_22</th>\n",
       "      <th>principal_component_23</th>\n",
       "      <th>principal_component_24</th>\n",
       "      <th>principal_component_25</th>\n",
       "    </tr>\n",
       "  </thead>\n",
       "  <tbody>\n",
       "    <tr>\n",
       "      <th>2</th>\n",
       "      <td>1.250883</td>\n",
       "      <td>-1.373754</td>\n",
       "      <td>1.102727</td>\n",
       "      <td>0.666466</td>\n",
       "      <td>1.790513</td>\n",
       "      <td>3.907434</td>\n",
       "      <td>-1.316201</td>\n",
       "      <td>-0.162755</td>\n",
       "      <td>0.925588</td>\n",
       "      <td>-0.628518</td>\n",
       "      <td>...</td>\n",
       "      <td>0.212915</td>\n",
       "      <td>0.023982</td>\n",
       "      <td>-0.025816</td>\n",
       "      <td>0.025946</td>\n",
       "      <td>-0.722618</td>\n",
       "      <td>-1.495224</td>\n",
       "      <td>-0.034971</td>\n",
       "      <td>1.436426</td>\n",
       "      <td>-0.813164</td>\n",
       "      <td>0.015496</td>\n",
       "    </tr>\n",
       "    <tr>\n",
       "      <th>13</th>\n",
       "      <td>6.563399</td>\n",
       "      <td>-1.578334</td>\n",
       "      <td>2.939763</td>\n",
       "      <td>1.219504</td>\n",
       "      <td>0.106908</td>\n",
       "      <td>0.008307</td>\n",
       "      <td>-0.231254</td>\n",
       "      <td>2.323526</td>\n",
       "      <td>1.274107</td>\n",
       "      <td>-0.415061</td>\n",
       "      <td>...</td>\n",
       "      <td>0.330057</td>\n",
       "      <td>0.347463</td>\n",
       "      <td>-0.106419</td>\n",
       "      <td>-0.333729</td>\n",
       "      <td>0.095084</td>\n",
       "      <td>1.955808</td>\n",
       "      <td>-0.080237</td>\n",
       "      <td>0.407656</td>\n",
       "      <td>-0.108820</td>\n",
       "      <td>-1.520745</td>\n",
       "    </tr>\n",
       "    <tr>\n",
       "      <th>56</th>\n",
       "      <td>1.750398</td>\n",
       "      <td>-1.860396</td>\n",
       "      <td>3.487876</td>\n",
       "      <td>3.159439</td>\n",
       "      <td>-0.832773</td>\n",
       "      <td>-0.542580</td>\n",
       "      <td>-0.124690</td>\n",
       "      <td>-0.993327</td>\n",
       "      <td>1.907791</td>\n",
       "      <td>0.617370</td>\n",
       "      <td>...</td>\n",
       "      <td>2.395101</td>\n",
       "      <td>1.127590</td>\n",
       "      <td>-0.169972</td>\n",
       "      <td>0.509406</td>\n",
       "      <td>-0.399360</td>\n",
       "      <td>-0.484305</td>\n",
       "      <td>-0.451449</td>\n",
       "      <td>-0.368052</td>\n",
       "      <td>-0.337352</td>\n",
       "      <td>-0.262915</td>\n",
       "    </tr>\n",
       "    <tr>\n",
       "      <th>80</th>\n",
       "      <td>6.445904</td>\n",
       "      <td>1.462678</td>\n",
       "      <td>-0.021714</td>\n",
       "      <td>0.635634</td>\n",
       "      <td>1.086217</td>\n",
       "      <td>-1.339032</td>\n",
       "      <td>2.828979</td>\n",
       "      <td>0.331731</td>\n",
       "      <td>-0.824767</td>\n",
       "      <td>4.780831</td>\n",
       "      <td>...</td>\n",
       "      <td>-1.257138</td>\n",
       "      <td>0.938251</td>\n",
       "      <td>-0.246124</td>\n",
       "      <td>-0.287768</td>\n",
       "      <td>-0.573015</td>\n",
       "      <td>-1.230750</td>\n",
       "      <td>0.445903</td>\n",
       "      <td>-0.370428</td>\n",
       "      <td>-0.009221</td>\n",
       "      <td>-0.549511</td>\n",
       "    </tr>\n",
       "    <tr>\n",
       "      <th>86</th>\n",
       "      <td>6.043502</td>\n",
       "      <td>-3.016981</td>\n",
       "      <td>3.513547</td>\n",
       "      <td>0.659939</td>\n",
       "      <td>2.392793</td>\n",
       "      <td>-1.478607</td>\n",
       "      <td>3.266292</td>\n",
       "      <td>0.693127</td>\n",
       "      <td>-1.623236</td>\n",
       "      <td>0.408659</td>\n",
       "      <td>...</td>\n",
       "      <td>-0.713812</td>\n",
       "      <td>-0.451956</td>\n",
       "      <td>-0.082188</td>\n",
       "      <td>-0.784312</td>\n",
       "      <td>-0.057799</td>\n",
       "      <td>-1.552704</td>\n",
       "      <td>0.003434</td>\n",
       "      <td>-1.282348</td>\n",
       "      <td>0.999171</td>\n",
       "      <td>-0.844411</td>\n",
       "    </tr>\n",
       "  </tbody>\n",
       "</table>\n",
       "<p>5 rows × 25 columns</p>\n",
       "</div>"
      ],
      "text/plain": [
       "    principal_component_1  principal_component_2  principal_component_3  \\\n",
       "2                1.250883              -1.373754               1.102727   \n",
       "13               6.563399              -1.578334               2.939763   \n",
       "56               1.750398              -1.860396               3.487876   \n",
       "80               6.445904               1.462678              -0.021714   \n",
       "86               6.043502              -3.016981               3.513547   \n",
       "\n",
       "    principal_component_4  principal_component_5  principal_component_6  \\\n",
       "2                0.666466               1.790513               3.907434   \n",
       "13               1.219504               0.106908               0.008307   \n",
       "56               3.159439              -0.832773              -0.542580   \n",
       "80               0.635634               1.086217              -1.339032   \n",
       "86               0.659939               2.392793              -1.478607   \n",
       "\n",
       "    principal_component_7  principal_component_8  principal_component_9  \\\n",
       "2               -1.316201              -0.162755               0.925588   \n",
       "13              -0.231254               2.323526               1.274107   \n",
       "56              -0.124690              -0.993327               1.907791   \n",
       "80               2.828979               0.331731              -0.824767   \n",
       "86               3.266292               0.693127              -1.623236   \n",
       "\n",
       "    principal_component_10           ...            principal_component_16  \\\n",
       "2                -0.628518           ...                          0.212915   \n",
       "13               -0.415061           ...                          0.330057   \n",
       "56                0.617370           ...                          2.395101   \n",
       "80                4.780831           ...                         -1.257138   \n",
       "86                0.408659           ...                         -0.713812   \n",
       "\n",
       "    principal_component_17  principal_component_18  principal_component_19  \\\n",
       "2                 0.023982               -0.025816                0.025946   \n",
       "13                0.347463               -0.106419               -0.333729   \n",
       "56                1.127590               -0.169972                0.509406   \n",
       "80                0.938251               -0.246124               -0.287768   \n",
       "86               -0.451956               -0.082188               -0.784312   \n",
       "\n",
       "    principal_component_20  principal_component_21  principal_component_22  \\\n",
       "2                -0.722618               -1.495224               -0.034971   \n",
       "13                0.095084                1.955808               -0.080237   \n",
       "56               -0.399360               -0.484305               -0.451449   \n",
       "80               -0.573015               -1.230750                0.445903   \n",
       "86               -0.057799               -1.552704                0.003434   \n",
       "\n",
       "    principal_component_23  principal_component_24  principal_component_25  \n",
       "2                 1.436426               -0.813164                0.015496  \n",
       "13                0.407656               -0.108820               -1.520745  \n",
       "56               -0.368052               -0.337352               -0.262915  \n",
       "80               -0.370428               -0.009221               -0.549511  \n",
       "86               -1.282348                0.999171               -0.844411  \n",
       "\n",
       "[5 rows x 25 columns]"
      ]
     },
     "execution_count": 79,
     "metadata": {},
     "output_type": "execute_result"
    }
   ],
   "source": [
    "# What kinds of people are part of a cluster that is underrepresented in the\n",
    "# customer data compared to the general population?\n",
    "\n",
    "cluster4_index_customers = np.where(pred_labels_customers==3)\n",
    "df_cluster4 = principalDf_customers.iloc[cluster4_index_customers]\n",
    "df_cluster4.head()"
   ]
  },
  {
   "cell_type": "code",
   "execution_count": 80,
   "metadata": {},
   "outputs": [
    {
     "data": {
      "image/png": "[encoded data removed]",
      "text/plain": [
       "<matplotlib.figure.Figure at 0x7f138ff29208>"
      ]
     },
     "metadata": {
      "needs_background": "light"
     },
     "output_type": "display_data"
    }
   ],
   "source": [
    "fig, axs = plt.subplots(1, 3, figsize=(15,5))\n",
    "fig.suptitle('Histogram of values in first three principal components for cluster 1')\n",
    "\n",
    "for i in range(3):\n",
    "   \n",
    "    axs[i].hist(df_cluster4[f'principal_component_{i+1}'])\n",
    "    axs[i].set_title(f'Histogram for PC{i+1}')\n",
    "    axs[i].set_xlabel('Value')\n",
    "    axs[i].set_ylabel('Count')\n",
    "    axs[i].grid(color = 'green', linestyle = '--', linewidth = 0.5)\n",
    "\n",
    "plt.subplots_adjust(wspace=0.5)\n",
    "plt.show()"
   ]
  },
  {
   "cell_type": "markdown",
   "metadata": {},
   "source": [
    "By comparing the proportion of persons in each cluster, we can clearly see that cluster 3 is overrepresented in the customer data; however, clusters 1,2, and 4 are underrepresented. In addition, the distribution of values in the first three principal components is plotted to investigate the type of people in these clusters.\n",
    "\n",
    "Cluster 3 which is the target audience for the company mostly has a negative value for PC1. It means the customers in this cluster generally are from the upper class and in a good financial situation. Moreover, the second PC for this group is mostly around zero and slightly tends to be on the positive side which means we would have a slightly older population in this group. Also, the third PC shows us the distribution of males and females in this cluster. We can say that there are more males than females in this cluster. Cluster 3 actually represents the segment of the population that is relatively popular with the mail-order company.\n",
    "\n",
    "For the underrepresented clusters like cluster 4, we can see that they usually have a positive value for PC1 which indicates that they are relatively poorer and live in regions that have buildings for families with higher members. Also, PC2 for this cluster has generally negative value which represents the younger generation and corresponding personal and financial typology. We have seen that the younger generation has lower religion affinity but they are more event-oriented and sensual-minded. The PC3 in this cluster is quite symmetric which means the distribution of males and females in these clusters is quite symmetric."
   ]
  },
  {
   "cell_type": "markdown",
   "metadata": {},
   "source": [
    "> Congratulations on making it this far in the project! Before you finish, make sure to check through the entire notebook from top to bottom to make sure that your analysis follows a logical flow and all of your findings are documented in **Discussion** cells. Once you've checked over all of your work, you should export the notebook as an HTML document to submit for evaluation. You can do this from the menu, navigating to **File -> Download as -> HTML (.html)**. You will submit both that document and this notebook for your project submission."
   ]
  },
  {
   "cell_type": "code",
   "execution_count": null,
   "metadata": {},
   "outputs": [],
   "source": []
  }
 ],
 "metadata": {
  "kernelspec": {
   "display_name": "Python 3",
   "language": "python",
   "name": "python3"
  },
  "language_info": {
   "codemirror_mode": {
    "name": "ipython",
    "version": 3
   },
   "file_extension": ".py",
   "mimetype": "text/x-python",
   "name": "python",
   "nbconvert_exporter": "python",
   "pygments_lexer": "ipython3",
   "version": "3.6.3"
  }
 },
 "nbformat": 4,
 "nbformat_minor": 2
}
